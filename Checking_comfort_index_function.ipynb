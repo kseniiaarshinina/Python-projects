{
 "cells": [
  {
   "cell_type": "code",
   "execution_count": 1,
   "metadata": {},
   "outputs": [],
   "source": [
    "import math\n",
    "\n",
    "def comfPMV(ta, tr, vel, rh, met, clo, wme=0):\n",
    "    \"\"\" Estimates PMV and PPD\n",
    "    The function returns a list containing the following values listed in order as they appear below:\n",
    "    - pmv : Predicted mean vote\n",
    "    - ppd : Percent predicted dissatisfied [%]\n",
    "    :param ta: dry bulb air temperature, [C]\n",
    "    :type  ta: float\n",
    "    :param tr: mean radiant temperature, [C]\n",
    "    :type  tr: float\n",
    "    :param vel: air velocity, [m/s]\n",
    "    :type  vel: float\n",
    "    :param rh: relative humidity, [%]\n",
    "    :type  rh: float\n",
    "    :param met: metabolic rate, [met]\n",
    "    :type  met: float\n",
    "    :param clo: clothing insulation, [clo]\n",
    "    :type  clo: float\n",
    "    :param wme: external work, [met] default 0\n",
    "    :type  wme: float\n",
    "    :return: list containing estimated parameters [PMV, PPD]\n",
    "    :rtype: list\n",
    "    \"\"\"\n",
    "\n",
    "    pa = rh * 10 * math.exp(16.6536 - 4030.183 / (ta + 235))\n",
    "\n",
    "    icl = 0.155 * clo  # thermal insulation of the clothing in M2K/W\n",
    "    m = met * 58.15  # metabolic rate in W/M2\n",
    "    w = wme * 58.15  # external work in W/M2\n",
    "    mw = m - w  # internal heat production in the human body\n",
    "    if icl <= 0.078:\n",
    "        fcl = 1 + (1.29 * icl)\n",
    "    else:\n",
    "        fcl = 1.05 + (0.645 * icl)\n",
    "\n",
    "    # heat transf. coeff. by forced convection\n",
    "    hcf = 12.1 * math.sqrt(vel)\n",
    "    taa = ta + 273\n",
    "    tra = tr + 273\n",
    "    tcla = taa + (35.5 - ta) / (3.5 * icl + 0.1)\n",
    "\n",
    "    p1 = icl * fcl\n",
    "    p2 = p1 * 3.96\n",
    "    p3 = p1 * 100\n",
    "    p4 = p1 * taa\n",
    "    p5 = (308.7 - 0.028 * mw) + (p2 * math.pow(tra / 100, 4))\n",
    "    xn = tcla / 100\n",
    "    xf = tcla / 50\n",
    "    eps = 0.00015\n",
    "\n",
    "    n = 0\n",
    "    hc = 0\n",
    "    while abs(xn - xf) > eps:\n",
    "        xf = (xf + xn) / 2\n",
    "        hcn = 2.38 * math.pow(abs(100.0 * xf - taa), 0.25)\n",
    "        if (hcf > hcn):\n",
    "            hc = hcf\n",
    "        else:\n",
    "            hc = hcn\n",
    "        xn = (p5 + p4 * hc - p2 * math.pow(xf, 4)) / (100 + p3 * hc)\n",
    "        n += 1\n",
    "        if n > 150:\n",
    "            print('Max iterations exceeded')\n",
    "            return 1\n",
    "\n",
    "    tcl = 100 * xn - 273\n",
    "\n",
    "    # heat loss diff. through skin\n",
    "    hl1 = 3.05 * 0.001 * (5733 - (6.99 * mw) - pa)\n",
    "    # heat loss by sweating\n",
    "    if mw > 58.15:\n",
    "        hl2 = 0.42 * (mw - 58.15)\n",
    "    else:\n",
    "        hl2 = 0\n",
    "    # latent respiration heat loss\n",
    "    hl3 = 1.7 * 0.00001 * m * (5867 - pa)\n",
    "    # dry respiration heat loss\n",
    "    hl4 = 0.0014 * m * (34 - ta)\n",
    "    # heat loss by radiation\n",
    "    hl5 = 3.96 * fcl * (math.pow(xn, 4) - math.pow(tra / 100, 4))\n",
    "    # heat loss by convection\n",
    "    hl6 = fcl * hc * (tcl - ta)\n",
    "\n",
    "    ts = 0.303 * math.exp(-0.036 * m) + 0.028\n",
    "    pmv = ts * (mw - hl1 - hl2 - hl3 - hl4 - hl5 - hl6)\n",
    "    ppd = 100.0 - 95.0 * math.exp(-0.03353 * pow(pmv, 4.0) - 0.2179 * pow(pmv, 2.0))\n",
    "\n",
    "    return [pmv, ppd]"
   ]
  },
  {
   "cell_type": "code",
   "execution_count": 2,
   "metadata": {},
   "outputs": [
    {
     "name": "stdout",
     "output_type": "stream",
     "text": [
      "[-0.6367098388987886, 13.509918149762854]\n"
     ]
    }
   ],
   "source": [
    "print(comfPMV(20.0, 18.0, 0.1, 30.0, 1.2, 1.0, 0))"
   ]
  },
  {
   "cell_type": "code",
   "execution_count": 3,
   "metadata": {},
   "outputs": [
    {
     "name": "stdout",
     "output_type": "stream",
     "text": [
      "[-0.5264523844776489, 10.797425934171855]\n"
     ]
    }
   ],
   "source": [
    "print(comfPMV(21.0, 18.0, 0.1, 30.0, 1.2, 1.0, 0))"
   ]
  },
  {
   "cell_type": "code",
   "execution_count": 4,
   "metadata": {},
   "outputs": [
    {
     "name": "stdout",
     "output_type": "stream",
     "text": [
      "[-0.4157486444252898, 8.603078159845651]\n"
     ]
    }
   ],
   "source": [
    "print(comfPMV(22.0, 18.0, 0.1, 30.0, 1.2, 1.0, 0))"
   ]
  },
  {
   "cell_type": "code",
   "execution_count": 5,
   "metadata": {},
   "outputs": [
    {
     "name": "stdout",
     "output_type": "stream",
     "text": [
      "[-0.3045557972628957, 6.9276382594397035]\n"
     ]
    }
   ],
   "source": [
    "print(comfPMV(23.0, 18.0, 0.1, 30.0, 1.2, 1.0, 0))"
   ]
  },
  {
   "cell_type": "code",
   "execution_count": 6,
   "metadata": {},
   "outputs": [
    {
     "name": "stdout",
     "output_type": "stream",
     "text": [
      "[-0.1928476906213515, 5.7711154799232816]\n"
     ]
    }
   ],
   "source": [
    "print(comfPMV(24.0, 18.0, 0.1, 30.0, 1.2, 1.0, 0))"
   ]
  },
  {
   "cell_type": "code",
   "execution_count": 7,
   "metadata": {},
   "outputs": [
    {
     "name": "stdout",
     "output_type": "stream",
     "text": [
      "[-0.08059725719715535, 5.134507846941787]\n"
     ]
    }
   ],
   "source": [
    "print(comfPMV(25.0, 18.0, 0.1, 30.0, 1.2, 1.0, 0))"
   ]
  },
  {
   "cell_type": "code",
   "execution_count": 8,
   "metadata": {},
   "outputs": [
    {
     "name": "stdout",
     "output_type": "stream",
     "text": [
      "[0.03222350051755991, 5.021495448824751]\n"
     ]
    }
   ],
   "source": [
    "print(comfPMV(26.0, 18.0, 0.1, 30.0, 1.2, 1.0, 0))"
   ]
  },
  {
   "cell_type": "code",
   "execution_count": 9,
   "metadata": {},
   "outputs": [
    {
     "name": "stdout",
     "output_type": "stream",
     "text": [
      "[0.1456435224775335, 5.439513152985782]\n"
     ]
    }
   ],
   "source": [
    "print(comfPMV(27.0, 18.0, 0.1, 30.0, 1.2, 1.0, 0))"
   ]
  },
  {
   "cell_type": "code",
   "execution_count": 10,
   "metadata": {},
   "outputs": [
    {
     "name": "stdout",
     "output_type": "stream",
     "text": [
      "[0.2596926985039489, 6.400115472252693]\n"
     ]
    }
   ],
   "source": [
    "print(comfPMV(28.0, 18.0, 0.1, 30.0, 1.2, 1.0, 0))"
   ]
  },
  {
   "cell_type": "code",
   "execution_count": 11,
   "metadata": {},
   "outputs": [
    {
     "name": "stdout",
     "output_type": "stream",
     "text": [
      "[0.3744040247869102, 7.9185823410800396]\n"
     ]
    }
   ],
   "source": [
    "print(comfPMV(29.0, 18.0, 0.1, 30.0, 1.2, 1.0, 0))"
   ]
  },
  {
   "cell_type": "code",
   "execution_count": 12,
   "metadata": {},
   "outputs": [
    {
     "name": "stdout",
     "output_type": "stream",
     "text": [
      "[0.4898163071788245, 10.012724276955524]\n"
     ]
    }
   ],
   "source": [
    "print(comfPMV(30.0, 18.0, 0.1, 30.0, 1.2, 1.0, 0))"
   ]
  },
  {
   "cell_type": "code",
   "execution_count": 13,
   "metadata": {},
   "outputs": [
    {
     "name": "stdout",
     "output_type": "stream",
     "text": [
      "[0.605957240937936, 12.700319492053268]\n"
     ]
    }
   ],
   "source": [
    "print(comfPMV(31.0, 18.0, 0.1, 30.0, 1.2, 1.0, 0))"
   ]
  },
  {
   "cell_type": "code",
   "execution_count": 14,
   "metadata": {},
   "outputs": [
    {
     "name": "stdout",
     "output_type": "stream",
     "text": [
      "[0.7228612826924755, 15.996114817723608]\n"
     ]
    }
   ],
   "source": [
    "print(comfPMV(32.0, 18.0, 0.1, 30.0, 1.2, 1.0, 0))"
   ]
  },
  {
   "cell_type": "code",
   "execution_count": 15,
   "metadata": {},
   "outputs": [
    {
     "name": "stdout",
     "output_type": "stream",
     "text": [
      "[0.8405640195141467, 19.907549172157488]\n"
     ]
    }
   ],
   "source": [
    "print(comfPMV(33.0, 18.0, 0.1, 30.0, 1.2, 1.0, 0))"
   ]
  },
  {
   "cell_type": "code",
   "execution_count": 16,
   "metadata": {},
   "outputs": [
    {
     "name": "stdout",
     "output_type": "stream",
     "text": [
      "[0.959102193373111, 24.429689752462025]\n"
     ]
    }
   ],
   "source": [
    "print(comfPMV(34.0, 18.0, 0.1, 30.0, 1.2, 1.0, 0))"
   ]
  },
  {
   "cell_type": "code",
   "execution_count": 17,
   "metadata": {},
   "outputs": [
    {
     "name": "stdout",
     "output_type": "stream",
     "text": [
      "[1.0785137257234283, 29.539604697719156]\n"
     ]
    }
   ],
   "source": [
    "print(comfPMV(35.0, 18.0, 0.1, 30.0, 1.2, 1.0, 0))"
   ]
  },
  {
   "cell_type": "code",
   "execution_count": 18,
   "metadata": {},
   "outputs": [
    {
     "name": "stdout",
     "output_type": "stream",
     "text": [
      "[1.1988377422063086, 35.1906698607191]\n"
     ]
    }
   ],
   "source": [
    "print(comfPMV(36.0, 18.0, 0.1, 30.0, 1.2, 1.0, 0))"
   ]
  },
  {
   "cell_type": "code",
   "execution_count": 19,
   "metadata": {},
   "outputs": [
    {
     "name": "stdout",
     "output_type": "stream",
     "text": [
      "[1.3312325626478898, 41.885583257050165]\n"
     ]
    }
   ],
   "source": [
    "print(comfPMV(37.0, 18.0, 0.1, 30.0, 1.2, 1.0, 0))"
   ]
  },
  {
   "cell_type": "code",
   "execution_count": 20,
   "metadata": {},
   "outputs": [
    {
     "name": "stdout",
     "output_type": "stream",
     "text": [
      "[1.4712350176188882, 49.340312269045796]\n"
     ]
    }
   ],
   "source": [
    "print(comfPMV(38.0, 18.0, 0.1, 30.0, 1.2, 1.0, 0))"
   ]
  },
  {
   "cell_type": "code",
   "execution_count": 21,
   "metadata": {},
   "outputs": [
    {
     "name": "stdout",
     "output_type": "stream",
     "text": [
      "[1.6138860967155677, 57.10059819565555]\n"
     ]
    }
   ],
   "source": [
    "print(comfPMV(39.0, 18.0, 0.1, 30.0, 1.2, 1.0, 0))"
   ]
  },
  {
   "cell_type": "code",
   "execution_count": 22,
   "metadata": {},
   "outputs": [
    {
     "name": "stdout",
     "output_type": "stream",
     "text": [
      "[1.759174560496958, 64.89226819495944]\n"
     ]
    }
   ],
   "source": [
    "print(comfPMV(40.0, 18.0, 0.1, 30.0, 1.2, 1.0, 0))"
   ]
  },
  {
   "cell_type": "code",
   "execution_count": 23,
   "metadata": {},
   "outputs": [
    {
     "name": "stdout",
     "output_type": "stream",
     "text": [
      "[1.9069458397825474, 72.39201705127255]\n"
     ]
    }
   ],
   "source": [
    "print(comfPMV(41.0, 18.0, 0.1, 30.0, 1.2, 1.0, 0))"
   ]
  },
  {
   "cell_type": "code",
   "execution_count": 24,
   "metadata": {},
   "outputs": [
    {
     "name": "stdout",
     "output_type": "stream",
     "text": [
      "[2.057138016155923, 79.2758519249343]\n"
     ]
    }
   ],
   "source": [
    "print(comfPMV(42.0, 18.0, 0.1, 30.0, 1.2, 1.0, 0))"
   ]
  },
  {
   "cell_type": "code",
   "execution_count": 25,
   "metadata": {},
   "outputs": [
    {
     "name": "stdout",
     "output_type": "stream",
     "text": [
      "[2.209716421183698, 85.261311280716]\n"
     ]
    }
   ],
   "source": [
    "print(comfPMV(43.0, 18.0, 0.1, 30.0, 1.2, 1.0, 0))"
   ]
  },
  {
   "cell_type": "code",
   "execution_count": 26,
   "metadata": {},
   "outputs": [
    {
     "name": "stdout",
     "output_type": "stream",
     "text": [
      "[2.3646577098122266, 90.15351064746415]\n"
     ]
    }
   ],
   "source": [
    "print(comfPMV(44.0, 18.0, 0.1, 30.0, 1.2, 1.0, 0))"
   ]
  },
  {
   "cell_type": "code",
   "execution_count": 27,
   "metadata": {},
   "outputs": [
    {
     "name": "stdout",
     "output_type": "stream",
     "text": [
      "[2.5219481796766874, 93.87968023326003]\n"
     ]
    }
   ],
   "source": [
    "print(comfPMV(45.0, 18.0, 0.1, 30.0, 1.2, 1.0, 0))"
   ]
  },
  {
   "cell_type": "code",
   "execution_count": 28,
   "metadata": {},
   "outputs": [
    {
     "name": "stdout",
     "output_type": "stream",
     "text": [
      "[2.681582461177213, 96.49851756809441]\n"
     ]
    }
   ],
   "source": [
    "print(comfPMV(46.0, 18.0, 0.1, 30.0, 1.2, 1.0, 0))"
   ]
  },
  {
   "cell_type": "code",
   "execution_count": 29,
   "metadata": {},
   "outputs": [
    {
     "name": "stdout",
     "output_type": "stream",
     "text": [
      "[2.8435919575612236, 98.17857228303527]\n"
     ]
    }
   ],
   "source": [
    "print(comfPMV(47.0, 18.0, 0.1, 30.0, 1.2, 1.0, 0))"
   ]
  },
  {
   "cell_type": "code",
   "execution_count": 30,
   "metadata": {},
   "outputs": [
    {
     "name": "stdout",
     "output_type": "stream",
     "text": [
      "[3.007983537063806, 99.1500949017872]\n"
     ]
    }
   ],
   "source": [
    "print(comfPMV(48.0, 18.0, 0.1, 30.0, 1.2, 1.0, 0))"
   ]
  },
  {
   "cell_type": "code",
   "execution_count": 31,
   "metadata": {},
   "outputs": [
    {
     "name": "stdout",
     "output_type": "stream",
     "text": [
      "[3.3438931013392845, 99.87441958502754]\n"
     ]
    }
   ],
   "source": [
    "print(comfPMV(50.0, 18.0, 0.1, 30.0, 1.2, 1.0, 0))"
   ]
  },
  {
   "cell_type": "code",
   "execution_count": 32,
   "metadata": {},
   "outputs": [
    {
     "name": "stdout",
     "output_type": "stream",
     "text": [
      "[3.5154551103106404, 99.96161478215762]\n"
     ]
    }
   ],
   "source": [
    "print(comfPMV(51.0, 18.0, 0.1, 30.0, 1.2, 1.0, 0))"
   ]
  },
  {
   "cell_type": "code",
   "execution_count": 33,
   "metadata": {},
   "outputs": [
    {
     "name": "stdout",
     "output_type": "stream",
     "text": [
      "[3.689458815048491, 99.99019591338717]\n"
     ]
    }
   ],
   "source": [
    "print(comfPMV(52.0, 18.0, 0.1, 30.0, 1.2, 1.0, 0))"
   ]
  },
  {
   "cell_type": "code",
   "execution_count": 34,
   "metadata": {},
   "outputs": [
    {
     "name": "stdout",
     "output_type": "stream",
     "text": [
      "[3.8659370275835325, 99.99795475542476]\n"
     ]
    }
   ],
   "source": [
    "print(comfPMV(53.0, 18.0, 0.1, 30.0, 1.2, 1.0, 0))"
   ]
  },
  {
   "cell_type": "code",
   "execution_count": 35,
   "metadata": {},
   "outputs": [
    {
     "name": "stdout",
     "output_type": "stream",
     "text": [
      "[4.044926344563469, 99.99966019464073]\n"
     ]
    }
   ],
   "source": [
    "print(comfPMV(54.0, 18.0, 0.1, 30.0, 1.2, 1.0, 0))"
   ]
  },
  {
   "cell_type": "code",
   "execution_count": 36,
   "metadata": {},
   "outputs": [
    {
     "name": "stdout",
     "output_type": "stream",
     "text": [
      "[4.228313302034089, 99.99995722650806]\n"
     ]
    }
   ],
   "source": [
    "print(comfPMV(55.0, 18.0, 0.1, 30.0, 1.2, 1.0, 0))"
   ]
  },
  {
   "cell_type": "code",
   "execution_count": 37,
   "metadata": {},
   "outputs": [
    {
     "name": "stdout",
     "output_type": "stream",
     "text": [
      "[4.412405033696312, 99.99999587390826]\n"
     ]
    }
   ],
   "source": [
    "print(comfPMV(56.0, 18.0, 0.1, 30.0, 1.2, 1.0, 0))"
   ]
  },
  {
   "cell_type": "code",
   "execution_count": 38,
   "metadata": {},
   "outputs": [
    {
     "name": "stdout",
     "output_type": "stream",
     "text": [
      "[4.599167494598831, 99.99999971112251]\n"
     ]
    }
   ],
   "source": [
    "print(comfPMV(57.0, 18.0, 0.1, 30.0, 1.2, 1.0, 0))"
   ]
  },
  {
   "cell_type": "code",
   "execution_count": 39,
   "metadata": {},
   "outputs": [
    {
     "name": "stdout",
     "output_type": "stream",
     "text": [
      "[4.788624290949981, 99.99999998585292]\n"
     ]
    }
   ],
   "source": [
    "print(comfPMV(58.0, 18.0, 0.1, 30.0, 1.2, 1.0, 0))"
   ]
  },
  {
   "cell_type": "code",
   "execution_count": 40,
   "metadata": {},
   "outputs": [
    {
     "name": "stdout",
     "output_type": "stream",
     "text": [
      "[4.980829441341283, 99.99999999953484]\n"
     ]
    }
   ],
   "source": [
    "print(comfPMV(59.0, 18.0, 0.1, 30.0, 1.2, 1.0, 0))"
   ]
  },
  {
   "cell_type": "code",
   "execution_count": 41,
   "metadata": {},
   "outputs": [
    {
     "name": "stdout",
     "output_type": "stream",
     "text": [
      "[5.175839960422115, 99.99999999999018]\n"
     ]
    }
   ],
   "source": [
    "print(comfPMV(60.0, 18.0, 0.1, 30.0, 1.2, 1.0, 0))"
   ]
  },
  {
   "cell_type": "code",
   "execution_count": 42,
   "metadata": {},
   "outputs": [
    {
     "name": "stdout",
     "output_type": "stream",
     "text": [
      "[-0.7465430054834119, 16.73563974020557]\n"
     ]
    }
   ],
   "source": [
    "print(comfPMV(19.0, 18.0, 0.1, 30.0, 1.2, 1.0, 0))"
   ]
  },
  {
   "cell_type": "code",
   "execution_count": 43,
   "metadata": {},
   "outputs": [
    {
     "name": "stdout",
     "output_type": "stream",
     "text": [
      "[-0.8546813813440621, 20.41595868994328]\n"
     ]
    }
   ],
   "source": [
    "print(comfPMV(18.0, 18.0, 0.1, 30.0, 1.2, 1.0, 0))"
   ]
  },
  {
   "cell_type": "code",
   "execution_count": 44,
   "metadata": {},
   "outputs": [
    {
     "name": "stdout",
     "output_type": "stream",
     "text": [
      "[-0.978259613349301, 25.21326964315631]\n"
     ]
    }
   ],
   "source": [
    "print(comfPMV(17.0, 18.0, 0.1, 30.0, 1.2, 1.0, 0))"
   ]
  },
  {
   "cell_type": "code",
   "execution_count": 45,
   "metadata": {},
   "outputs": [
    {
     "name": "stdout",
     "output_type": "stream",
     "text": [
      "[-1.1052143313054716, 30.752739917960767]\n"
     ]
    }
   ],
   "source": [
    "print(comfPMV(16.0, 18.0, 0.1, 30.0, 1.2, 1.0, 0))"
   ]
  },
  {
   "cell_type": "code",
   "execution_count": 46,
   "metadata": {},
   "outputs": [
    {
     "name": "stdout",
     "output_type": "stream",
     "text": [
      "[-1.2334369261643985, 36.89727087515715]\n"
     ]
    }
   ],
   "source": [
    "print(comfPMV(15.0, 18.0, 0.1, 30.0, 1.2, 1.0, 0))"
   ]
  },
  {
   "cell_type": "code",
   "execution_count": 47,
   "metadata": {},
   "outputs": [
    {
     "name": "stdout",
     "output_type": "stream",
     "text": [
      "[-1.3628261995377478, 43.54132294107012]\n"
     ]
    }
   ],
   "source": [
    "print(comfPMV(14.0, 18.0, 0.1, 30.0, 1.2, 1.0, 0))"
   ]
  },
  {
   "cell_type": "code",
   "execution_count": 48,
   "metadata": {},
   "outputs": [
    {
     "name": "stdout",
     "output_type": "stream",
     "text": [
      "[-1.4932981379346277, 50.53621192844064]\n"
     ]
    }
   ],
   "source": [
    "print(comfPMV(13.0, 18.0, 0.1, 30.0, 1.2, 1.0, 0))"
   ]
  },
  {
   "cell_type": "code",
   "execution_count": 49,
   "metadata": {},
   "outputs": [
    {
     "name": "stdout",
     "output_type": "stream",
     "text": [
      "[-1.6247822089668722, 57.69256267958798]\n"
     ]
    }
   ],
   "source": [
    "print(comfPMV(12.0, 18.0, 0.1, 30.0, 1.2, 1.0, 0))"
   ]
  },
  {
   "cell_type": "code",
   "execution_count": 50,
   "metadata": {},
   "outputs": [
    {
     "name": "stdout",
     "output_type": "stream",
     "text": [
      "[-1.7572186253024065, 64.78944697674513]\n"
     ]
    }
   ],
   "source": [
    "print(comfPMV(11.0, 18.0, 0.1, 30.0, 1.2, 1.0, 0))"
   ]
  },
  {
   "cell_type": "code",
   "execution_count": 51,
   "metadata": {},
   "outputs": [
    {
     "name": "stdout",
     "output_type": "stream",
     "text": [
      "[-1.8905562801146485, 71.59075186710149]\n"
     ]
    }
   ],
   "source": [
    "print(comfPMV(10.0, 18.0, 0.1, 30.0, 1.2, 1.0, 0))"
   ]
  },
  {
   "cell_type": "code",
   "execution_count": 52,
   "metadata": {},
   "outputs": [
    {
     "name": "stdout",
     "output_type": "stream",
     "text": [
      "[-2.0247511605378383, 77.8677412201585]\n"
     ]
    }
   ],
   "source": [
    "print(comfPMV(9.0, 18.0, 0.1, 30.0, 1.2, 1.0, 0))"
   ]
  },
  {
   "cell_type": "code",
   "execution_count": 53,
   "metadata": {},
   "outputs": [
    {
     "name": "stdout",
     "output_type": "stream",
     "text": [
      "[-2.1597651090177403, 83.42482550729903]\n"
     ]
    }
   ],
   "source": [
    "print(comfPMV(8.0, 18.0, 0.1, 30.0, 1.2, 1.0, 0))"
   ]
  },
  {
   "cell_type": "code",
   "execution_count": 54,
   "metadata": {},
   "outputs": [
    {
     "name": "stdout",
     "output_type": "stream",
     "text": [
      "[-2.2955648428155833, 88.12379499796909]\n"
     ]
    }
   ],
   "source": [
    "print(comfPMV(7.0, 18.0, 0.1, 30.0, 1.2, 1.0, 0))"
   ]
  },
  {
   "cell_type": "code",
   "execution_count": 55,
   "metadata": {},
   "outputs": [
    {
     "name": "stdout",
     "output_type": "stream",
     "text": [
      "[-2.4321211683748523, 91.90095946273934]\n"
     ]
    }
   ],
   "source": [
    "print(comfPMV(6.0, 18.0, 0.1, 30.0, 1.2, 1.0, 0))"
   ]
  },
  {
   "cell_type": "code",
   "execution_count": 56,
   "metadata": {},
   "outputs": [
    {
     "name": "stdout",
     "output_type": "stream",
     "text": [
      "[-2.5694083450264347, 94.77245399526383]\n"
     ]
    }
   ],
   "source": [
    "print(comfPMV(5.0, 18.0, 0.1, 30.0, 1.2, 1.0, 0))"
   ]
  },
  {
   "cell_type": "code",
   "execution_count": 57,
   "metadata": {},
   "outputs": [
    {
     "name": "stdout",
     "output_type": "stream",
     "text": [
      "[-2.707403564706029, 96.82560929766315]\n"
     ]
    }
   ],
   "source": [
    "print(comfPMV(4.0, 18.0, 0.1, 30.0, 1.2, 1.0, 0))"
   ]
  },
  {
   "cell_type": "code",
   "execution_count": 58,
   "metadata": {},
   "outputs": [
    {
     "name": "stdout",
     "output_type": "stream",
     "text": [
      "[-2.8460865228996255, 98.19813019394314]\n"
     ]
    }
   ],
   "source": [
    "print(comfPMV(3.0, 18.0, 0.1, 30.0, 1.2, 1.0, 0))"
   ]
  },
  {
   "cell_type": "code",
   "execution_count": 59,
   "metadata": {},
   "outputs": [
    {
     "name": "stdout",
     "output_type": "stream",
     "text": [
      "[-2.9854390621220013, 99.05049675916004]\n"
     ]
    }
   ],
   "source": [
    "print(comfPMV(2.0, 18.0, 0.1, 30.0, 1.2, 1.0, 0))"
   ]
  },
  {
   "cell_type": "code",
   "execution_count": 60,
   "metadata": {},
   "outputs": [
    {
     "name": "stdout",
     "output_type": "stream",
     "text": [
      "[-3.1254448736403386, 99.53890443066541]\n"
     ]
    }
   ],
   "source": [
    "print(comfPMV(1.0, 18.0, 0.1, 30.0, 1.2, 1.0, 0))"
   ]
  },
  {
   "cell_type": "code",
   "execution_count": 61,
   "metadata": {},
   "outputs": [
    {
     "name": "stdout",
     "output_type": "stream",
     "text": [
      "[-3.2660892463988995, 99.79525420072272]\n"
     ]
    }
   ],
   "source": [
    "print(comfPMV(0.0, 18.0, 0.1, 30.0, 1.2, 1.0, 0))"
   ]
  },
  {
   "cell_type": "code",
   "execution_count": 62,
   "metadata": {},
   "outputs": [
    {
     "name": "stdout",
     "output_type": "stream",
     "text": [
      "[-3.407358854509479, 99.91755428907777]\n"
     ]
    }
   ],
   "source": [
    "print(comfPMV(-1.0, 18.0, 0.1, 30.0, 1.2, 1.0, 0))"
   ]
  },
  {
   "cell_type": "code",
   "execution_count": 63,
   "metadata": {},
   "outputs": [
    {
     "name": "stdout",
     "output_type": "stream",
     "text": [
      "[-3.549241576494233, 99.9701574682888]\n"
     ]
    }
   ],
   "source": [
    "print(comfPMV(-2.0, 18.0, 0.1, 30.0, 1.2, 1.0, 0))"
   ]
  },
  {
   "cell_type": "code",
   "execution_count": 64,
   "metadata": {},
   "outputs": [
    {
     "name": "stdout",
     "output_type": "stream",
     "text": [
      "[-3.691726340851101, 99.99037980164115]\n"
     ]
    }
   ],
   "source": [
    "print(comfPMV(-3.0, 18.0, 0.1, 30.0, 1.2, 1.0, 0))"
   ]
  },
  {
   "cell_type": "code",
   "execution_count": 65,
   "metadata": {},
   "outputs": [
    {
     "name": "stdout",
     "output_type": "stream",
     "text": [
      "[-3.836165194794814, 99.99729922136456]\n"
     ]
    }
   ],
   "source": [
    "print(comfPMV(-4.0, 18.0, 0.1, 30.0, 1.2, 1.0, 0))"
   ]
  },
  {
   "cell_type": "code",
   "execution_count": 66,
   "metadata": {},
   "outputs": [
    {
     "name": "stdout",
     "output_type": "stream",
     "text": [
      "[-3.979845417264157, 99.99933082223072]\n"
     ]
    }
   ],
   "source": [
    "print(comfPMV(-5.0, 18.0, 0.1, 30.0, 1.2, 1.0, 0))"
   ]
  },
  {
   "cell_type": "code",
   "execution_count": 67,
   "metadata": {},
   "outputs": [
    {
     "name": "stdout",
     "output_type": "stream",
     "text": [
      "[-4.124099418151548, 99.99985686536795]\n"
     ]
    }
   ],
   "source": [
    "print(comfPMV(-6.0, 18.0, 0.1, 30.0, 1.2, 1.0, 0))"
   ]
  },
  {
   "cell_type": "code",
   "execution_count": 68,
   "metadata": {},
   "outputs": [
    {
     "name": "stdout",
     "output_type": "stream",
     "text": [
      "[-4.2689191679943, 99.9999738705382]\n"
     ]
    }
   ],
   "source": [
    "print(comfPMV(-7.0, 18.0, 0.1, 30.0, 1.2, 1.0, 0))"
   ]
  },
  {
   "cell_type": "code",
   "execution_count": 69,
   "metadata": {},
   "outputs": [
    {
     "name": "stdout",
     "output_type": "stream",
     "text": [
      "[-4.414297182635561, 99.99999597760922]\n"
     ]
    }
   ],
   "source": [
    "print(comfPMV(-8.0, 18.0, 0.1, 30.0, 1.2, 1.0, 0))"
   ]
  },
  {
   "cell_type": "code",
   "execution_count": 70,
   "metadata": {},
   "outputs": [
    {
     "name": "stdout",
     "output_type": "stream",
     "text": [
      "[-4.560226458802251, 99.99999948436786]\n"
     ]
    }
   ],
   "source": [
    "print(comfPMV(-9.0, 18.0, 0.1, 30.0, 1.2, 1.0, 0))"
   ]
  },
  {
   "cell_type": "code",
   "execution_count": 71,
   "metadata": {},
   "outputs": [
    {
     "name": "stdout",
     "output_type": "stream",
     "text": [
      "[-4.706700417933244, 99.99999994567817]\n"
     ]
    }
   ],
   "source": [
    "print(comfPMV(-10.0, 18.0, 0.1, 30.0, 1.2, 1.0, 0))"
   ]
  },
  {
   "cell_type": "code",
   "execution_count": 72,
   "metadata": {},
   "outputs": [
    {
     "name": "stdout",
     "output_type": "stream",
     "text": [
      "[-4.85371285711747, 99.99999999536125]\n"
     ]
    }
   ],
   "source": [
    "print(comfPMV(-11.0, 18.0, 0.1, 30.0, 1.2, 1.0, 0))"
   ]
  },
  {
   "cell_type": "code",
   "execution_count": 73,
   "metadata": {},
   "outputs": [
    {
     "name": "stdout",
     "output_type": "stream",
     "text": [
      "[-5.001257906180263, 99.99999999968351]\n"
     ]
    }
   ],
   "source": [
    "print(comfPMV(-12.0, 18.0, 0.1, 30.0, 1.2, 1.0, 0))"
   ]
  },
  {
   "cell_type": "code",
   "execution_count": 74,
   "metadata": {},
   "outputs": [
    {
     "name": "stdout",
     "output_type": "stream",
     "text": [
      "[-0.06391308290684367, 5.084574585883502]\n"
     ]
    }
   ],
   "source": [
    "print(comfPMV(26.0, 17.0, 0.1, 30.0, 1.2, 1.0, 0))"
   ]
  },
  {
   "cell_type": "code",
   "execution_count": 75,
   "metadata": {},
   "outputs": [
    {
     "name": "stdout",
     "output_type": "stream",
     "text": [
      "[-0.15914405288964636, 5.524865992758876]\n"
     ]
    }
   ],
   "source": [
    "print(comfPMV(26.0, 16.0, 0.1, 30.0, 1.2, 1.0, 0))"
   ]
  },
  {
   "cell_type": "code",
   "execution_count": 76,
   "metadata": {},
   "outputs": [
    {
     "name": "stdout",
     "output_type": "stream",
     "text": [
      "[-0.25347371485524567, 6.333683545931436]\n"
     ]
    }
   ],
   "source": [
    "print(comfPMV(26.0, 15.0, 0.1, 30.0, 1.2, 1.0, 0))"
   ]
  },
  {
   "cell_type": "code",
   "execution_count": 77,
   "metadata": {},
   "outputs": [
    {
     "name": "stdout",
     "output_type": "stream",
     "text": [
      "[-0.3469063971043377, 7.50373004728111]\n"
     ]
    }
   ],
   "source": [
    "print(comfPMV(26.0, 14.0, 0.1, 30.0, 1.2, 1.0, 0))"
   ]
  },
  {
   "cell_type": "code",
   "execution_count": 78,
   "metadata": {},
   "outputs": [
    {
     "name": "stdout",
     "output_type": "stream",
     "text": [
      "[-0.43944645029255824, 9.028424114278224]\n"
     ]
    }
   ],
   "source": [
    "print(comfPMV(26.0, 13.0, 0.1, 30.0, 1.2, 1.0, 0))"
   ]
  },
  {
   "cell_type": "code",
   "execution_count": 79,
   "metadata": {},
   "outputs": [
    {
     "name": "stdout",
     "output_type": "stream",
     "text": [
      "[-0.5310982469139658, 10.901083256052559]\n"
     ]
    }
   ],
   "source": [
    "print(comfPMV(26.0, 12.0, 0.1, 30.0, 1.2, 1.0, 0))"
   ]
  },
  {
   "cell_type": "code",
   "execution_count": 80,
   "metadata": {},
   "outputs": [
    {
     "name": "stdout",
     "output_type": "stream",
     "text": [
      "[-0.6218661807906734, 13.114017671034176]\n"
     ]
    }
   ],
   "source": [
    "print(comfPMV(26.0, 11.0, 0.1, 30.0, 1.2, 1.0, 0))"
   ]
  },
  {
   "cell_type": "code",
   "execution_count": 81,
   "metadata": {},
   "outputs": [
    {
     "name": "stdout",
     "output_type": "stream",
     "text": [
      "[-0.7117546665679626, 15.657589673107097]\n"
     ]
    }
   ],
   "source": [
    "print(comfPMV(26.0, 10.0, 0.1, 30.0, 1.2, 1.0, 0))"
   ]
  },
  {
   "cell_type": "code",
   "execution_count": 82,
   "metadata": {},
   "outputs": [
    {
     "name": "stdout",
     "output_type": "stream",
     "text": [
      "[-0.8007681392165551, 18.51929471362071]\n"
     ]
    }
   ],
   "source": [
    "print(comfPMV(26.0, 9.0, 0.1, 30.0, 1.2, 1.0, 0))"
   ]
  },
  {
   "cell_type": "code",
   "execution_count": 83,
   "metadata": {},
   "outputs": [
    {
     "name": "stdout",
     "output_type": "stream",
     "text": [
      "[-0.8889097420146062, 21.68287149419143]\n"
     ]
    }
   ],
   "source": [
    "print(comfPMV(26.0, 8.0, 0.1, 30.0, 1.2, 1.0, 0))"
   ]
  },
  {
   "cell_type": "code",
   "execution_count": 84,
   "metadata": {},
   "outputs": [
    {
     "name": "stdout",
     "output_type": "stream",
     "text": [
      "[-0.9761832193119099, 25.127652218431052]\n"
     ]
    }
   ],
   "source": [
    "print(comfPMV(26.0, 7.0, 0.1, 30.0, 1.2, 1.0, 0))"
   ]
  },
  {
   "cell_type": "code",
   "execution_count": 85,
   "metadata": {},
   "outputs": [
    {
     "name": "stdout",
     "output_type": "stream",
     "text": [
      "[-1.0625947027289049, 28.828140065067657]\n"
     ]
    }
   ],
   "source": [
    "print(comfPMV(26.0, 6.0, 0.1, 30.0, 1.2, 1.0, 0))"
   ]
  },
  {
   "cell_type": "code",
   "execution_count": 86,
   "metadata": {},
   "outputs": [
    {
     "name": "stdout",
     "output_type": "stream",
     "text": [
      "[-1.1481486908036873, 32.75358190454206]\n"
     ]
    }
   ],
   "source": [
    "print(comfPMV(26.0, 5.0, 0.1, 30.0, 1.2, 1.0, 0))"
   ]
  },
  {
   "cell_type": "code",
   "execution_count": 87,
   "metadata": {},
   "outputs": [
    {
     "name": "stdout",
     "output_type": "stream",
     "text": [
      "[-1.2328496993385685, 36.86803086571326]\n"
     ]
    }
   ],
   "source": [
    "print(comfPMV(26.0, 4.0, 0.1, 30.0, 1.2, 1.0, 0))"
   ]
  },
  {
   "cell_type": "code",
   "execution_count": 88,
   "metadata": {},
   "outputs": [
    {
     "name": "stdout",
     "output_type": "stream",
     "text": [
      "[-1.3167022608768129, 41.13066093796283]\n"
     ]
    }
   ],
   "source": [
    "print(comfPMV(26.0, 3.0, 0.1, 30.0, 1.2, 1.0, 0))"
   ]
  },
  {
   "cell_type": "code",
   "execution_count": 89,
   "metadata": {},
   "outputs": [
    {
     "name": "stdout",
     "output_type": "stream",
     "text": [
      "[-1.3997109241821934, 45.49640021480757]\n"
     ]
    }
   ],
   "source": [
    "print(comfPMV(26.0, 2.0, 0.1, 30.0, 1.2, 1.0, 0))"
   ]
  },
  {
   "cell_type": "code",
   "execution_count": 90,
   "metadata": {},
   "outputs": [
    {
     "name": "stdout",
     "output_type": "stream",
     "text": [
      "[-1.481880253721695, 49.91687266507533]\n"
     ]
    }
   ],
   "source": [
    "print(comfPMV(26.0, 1.0, 0.1, 30.0, 1.2, 1.0, 0))"
   ]
  },
  {
   "cell_type": "code",
   "execution_count": 91,
   "metadata": {},
   "outputs": [
    {
     "name": "stdout",
     "output_type": "stream",
     "text": [
      "[-1.5632148291509167, 54.341615774320886]\n"
     ]
    }
   ],
   "source": [
    "print(comfPMV(26.0, 0.0, 0.1, 30.0, 1.2, 1.0, 0))"
   ]
  },
  {
   "cell_type": "code",
   "execution_count": 92,
   "metadata": {},
   "outputs": [
    {
     "name": "stdout",
     "output_type": "stream",
     "text": [
      "[-1.643719244803524, 58.71951868173923]\n"
     ]
    }
   ],
   "source": [
    "print(comfPMV(26.0, -1.0, 0.1, 30.0, 1.2, 1.0, 0))"
   ]
  },
  {
   "cell_type": "code",
   "execution_count": 93,
   "metadata": {},
   "outputs": [
    {
     "name": "stdout",
     "output_type": "stream",
     "text": [
      "[0.12926997940539892, 5.346177652267116]\n"
     ]
    }
   ],
   "source": [
    "print(comfPMV(26.0, 19.0, 0.1, 30.0, 1.2, 1.0, 0))"
   ]
  },
  {
   "cell_type": "code",
   "execution_count": 94,
   "metadata": {},
   "outputs": [
    {
     "name": "stdout",
     "output_type": "stream",
     "text": [
      "[0.22723061184505597, 6.07125106443047]\n"
     ]
    }
   ],
   "source": [
    "print(comfPMV(26.0, 20.0, 0.1, 30.0, 1.2, 1.0, 0))"
   ]
  },
  {
   "cell_type": "code",
   "execution_count": 95,
   "metadata": {},
   "outputs": [
    {
     "name": "stdout",
     "output_type": "stream",
     "text": [
      "[0.3261096314568327, 7.2113286910783785]\n"
     ]
    }
   ],
   "source": [
    "print(comfPMV(26.0, 21.0, 0.1, 30.0, 1.2, 1.0, 0))"
   ]
  },
  {
   "cell_type": "code",
   "execution_count": 96,
   "metadata": {},
   "outputs": [
    {
     "name": "stdout",
     "output_type": "stream",
     "text": [
      "[0.4259112468539565, 8.782532806019873]\n"
     ]
    }
   ],
   "source": [
    "print(comfPMV(26.0, 22.0, 0.1, 30.0, 1.2, 1.0, 0))"
   ]
  },
  {
   "cell_type": "code",
   "execution_count": 97,
   "metadata": {},
   "outputs": [
    {
     "name": "stdout",
     "output_type": "stream",
     "text": [
      "[0.5266396411005643, 10.801585883300191]\n"
     ]
    }
   ],
   "source": [
    "print(comfPMV(26.0, 23.0, 0.1, 30.0, 1.2, 1.0, 0))"
   ]
  },
  {
   "cell_type": "code",
   "execution_count": 98,
   "metadata": {},
   "outputs": [
    {
     "name": "stdout",
     "output_type": "stream",
     "text": [
      "[0.6299961001661425, 13.329669602283602]\n"
     ]
    }
   ],
   "source": [
    "print(comfPMV(26.0, 24.0, 0.1, 30.0, 1.2, 1.0, 0))"
   ]
  },
  {
   "cell_type": "code",
   "execution_count": 99,
   "metadata": {},
   "outputs": [
    {
     "name": "stdout",
     "output_type": "stream",
     "text": [
      "[0.732556268695499, 16.295953958713255]\n"
     ]
    }
   ],
   "source": [
    "print(comfPMV(26.0, 25.0, 0.1, 30.0, 1.2, 1.0, 0))"
   ]
  },
  {
   "cell_type": "code",
   "execution_count": 100,
   "metadata": {},
   "outputs": [
    {
     "name": "stdout",
     "output_type": "stream",
     "text": [
      "[0.8360548941998559, 19.746912563738732]\n"
     ]
    }
   ],
   "source": [
    "print(comfPMV(26.0, 26.0, 0.1, 30.0, 1.2, 1.0, 0))"
   ]
  },
  {
   "cell_type": "code",
   "execution_count": 101,
   "metadata": {},
   "outputs": [
    {
     "name": "stdout",
     "output_type": "stream",
     "text": [
      "[0.9404960723764042, 23.68241656024253]\n"
     ]
    }
   ],
   "source": [
    "print(comfPMV(26.0, 27.0, 0.1, 30.0, 1.2, 1.0, 0))"
   ]
  },
  {
   "cell_type": "code",
   "execution_count": 102,
   "metadata": {},
   "outputs": [
    {
     "name": "stdout",
     "output_type": "stream",
     "text": [
      "[1.0458838706860778, 28.091005821163165]\n"
     ]
    }
   ],
   "source": [
    "print(comfPMV(26.0, 28.0, 0.1, 30.0, 1.2, 1.0, 0))"
   ]
  },
  {
   "cell_type": "code",
   "execution_count": 103,
   "metadata": {},
   "outputs": [
    {
     "name": "stdout",
     "output_type": "stream",
     "text": [
      "[1.1522223278243637, 32.946520917233286]\n"
     ]
    }
   ],
   "source": [
    "print(comfPMV(26.0, 29.0, 0.1, 30.0, 1.2, 1.0, 0))"
   ]
  },
  {
   "cell_type": "code",
   "execution_count": 104,
   "metadata": {},
   "outputs": [
    {
     "name": "stdout",
     "output_type": "stream",
     "text": [
      "[1.2595154531877228, 38.20494728515317]\n"
     ]
    }
   ],
   "source": [
    "print(comfPMV(26.0, 30.0, 0.1, 30.0, 1.2, 1.0, 0))"
   ]
  },
  {
   "cell_type": "code",
   "execution_count": 105,
   "metadata": {},
   "outputs": [
    {
     "name": "stdout",
     "output_type": "stream",
     "text": [
      "[0.06580490081850315, 5.08965646034882]\n"
     ]
    }
   ],
   "source": [
    "print(comfPMV(26.0, 18.0, 0.0, 30.0, 1.2, 1.0, 0))"
   ]
  },
  {
   "cell_type": "code",
   "execution_count": 106,
   "metadata": {},
   "outputs": [
    {
     "name": "stdout",
     "output_type": "stream",
     "text": [
      "[0.004892570828504733, 5.000495513562271]\n"
     ]
    }
   ],
   "source": [
    "print(comfPMV(26.0, 18.0, 0.2, 30.0, 1.2, 1.0, 0))"
   ]
  },
  {
   "cell_type": "code",
   "execution_count": 107,
   "metadata": {},
   "outputs": [
    {
     "name": "stdout",
     "output_type": "stream",
     "text": [
      "[-0.012161173552081293, 5.003061503030409]\n"
     ]
    }
   ],
   "source": [
    "print(comfPMV(26.0, 18.0, 0.3, 30.0, 1.2, 1.0, 0))"
   ]
  },
  {
   "cell_type": "code",
   "execution_count": 108,
   "metadata": {},
   "outputs": [
    {
     "name": "stdout",
     "output_type": "stream",
     "text": [
      "[-0.02651981848773554, 5.014559137482038]\n"
     ]
    }
   ],
   "source": [
    "print(comfPMV(26.0, 18.0, 0.4, 30.0, 1.2, 1.0, 0))"
   ]
  },
  {
   "cell_type": "code",
   "execution_count": 109,
   "metadata": {},
   "outputs": [
    {
     "name": "stdout",
     "output_type": "stream",
     "text": [
      "[-0.03658659381673902, 5.027710916575302]\n"
     ]
    }
   ],
   "source": [
    "print(comfPMV(26.0, 18.0, 0.5, 30.0, 1.2, 1.0, 0))"
   ]
  },
  {
   "cell_type": "code",
   "execution_count": 110,
   "metadata": {},
   "outputs": [
    {
     "name": "stdout",
     "output_type": "stream",
     "text": [
      "[-0.04468078038750037, 5.041329603821296]\n"
     ]
    }
   ],
   "source": [
    "print(comfPMV(26.0, 18.0, 0.6, 30.0, 1.2, 1.0, 0))"
   ]
  },
  {
   "cell_type": "code",
   "execution_count": 111,
   "metadata": {},
   "outputs": [
    {
     "name": "stdout",
     "output_type": "stream",
     "text": [
      "[-0.05144964558407558, 5.054802097219579]\n"
     ]
    }
   ],
   "source": [
    "print(comfPMV(26.0, 18.0, 0.7, 30.0, 1.2, 1.0, 0))"
   ]
  },
  {
   "cell_type": "code",
   "execution_count": 112,
   "metadata": {},
   "outputs": [
    {
     "name": "stdout",
     "output_type": "stream",
     "text": [
      "[-0.05723922832139494, 5.067831618432265]\n"
     ]
    }
   ],
   "source": [
    "print(comfPMV(26.0, 18.0, 0.8, 30.0, 1.2, 1.0, 0))"
   ]
  },
  {
   "cell_type": "code",
   "execution_count": 113,
   "metadata": {},
   "outputs": [
    {
     "name": "stdout",
     "output_type": "stream",
     "text": [
      "[-0.06427063399940207, 5.085523684882503]\n"
     ]
    }
   ],
   "source": [
    "print(comfPMV(26.0, 18.0, 0.9, 30.0, 1.2, 1.0, 0))"
   ]
  },
  {
   "cell_type": "code",
   "execution_count": 114,
   "metadata": {},
   "outputs": [
    {
     "name": "stdout",
     "output_type": "stream",
     "text": [
      "[-0.06898399267716263, 5.098530362600059]\n"
     ]
    }
   ],
   "source": [
    "print(comfPMV(26.0, 18.0, 1.0, 30.0, 1.2, 1.0, 0))"
   ]
  },
  {
   "cell_type": "code",
   "execution_count": 115,
   "metadata": {},
   "outputs": [
    {
     "name": "stdout",
     "output_type": "stream",
     "text": [
      "[0.07975007267235355, 5.13169419756349]\n"
     ]
    }
   ],
   "source": [
    "print(comfPMV(26.0, 18.0, 0.2, 40.0, 1.2, 1.0, 0))"
   ]
  },
  {
   "cell_type": "code",
   "execution_count": 116,
   "metadata": {},
   "outputs": [
    {
     "name": "stdout",
     "output_type": "stream",
     "text": [
      "[0.18193850420525756, 5.686219904109905]\n"
     ]
    }
   ],
   "source": [
    "print(comfPMV(26.0, 18.0, 0.1, 50.0, 1.2, 1.0, 0))"
   ]
  },
  {
   "cell_type": "code",
   "execution_count": 117,
   "metadata": {},
   "outputs": [
    {
     "name": "stdout",
     "output_type": "stream",
     "text": [
      "[0.25679600604910635, 6.3689702365145]\n"
     ]
    }
   ],
   "source": [
    "print(comfPMV(26.0, 18.0, 0.1, 60.0, 1.2, 1.0, 0))"
   ]
  },
  {
   "cell_type": "code",
   "execution_count": 118,
   "metadata": {},
   "outputs": [
    {
     "name": "stdout",
     "output_type": "stream",
     "text": [
      "[0.33165350789295556, 7.287480336542771]\n"
     ]
    }
   ],
   "source": [
    "print(comfPMV(26.0, 18.0, 0.1, 70.0, 1.2, 1.0, 0))"
   ]
  },
  {
   "cell_type": "code",
   "execution_count": 119,
   "metadata": {},
   "outputs": [
    {
     "name": "stdout",
     "output_type": "stream",
     "text": [
      "[0.4065110097368044, 8.443797470217007]\n"
     ]
    }
   ],
   "source": [
    "print(comfPMV(26.0, 18.0, 0.1, 80.0, 1.2, 1.0, 0))"
   ]
  },
  {
   "cell_type": "code",
   "execution_count": 120,
   "metadata": {},
   "outputs": [
    {
     "name": "stdout",
     "output_type": "stream",
     "text": [
      "[0.4813685115806532, 9.840010313237258]\n"
     ]
    }
   ],
   "source": [
    "print(comfPMV(26.0, 18.0, 0.1, 90.0, 1.2, 1.0, 0))"
   ]
  },
  {
   "cell_type": "code",
   "execution_count": 121,
   "metadata": {},
   "outputs": [
    {
     "name": "stdout",
     "output_type": "stream",
     "text": [
      "[0.5562260134245024, 11.477932439107377]\n"
     ]
    }
   ],
   "source": [
    "print(comfPMV(26.0, 18.0, 0.1, 100.0, 1.2, 1.0, 0))"
   ]
  },
  {
   "cell_type": "code",
   "execution_count": 122,
   "metadata": {},
   "outputs": [
    {
     "name": "stdout",
     "output_type": "stream",
     "text": [
      "[-0.06996493101534447, 5.10135306621271]\n"
     ]
    }
   ],
   "source": [
    "print(comfPMV(26.0, 18.0, 0.2, 20.0, 1.2, 1.0, 0))"
   ]
  },
  {
   "cell_type": "code",
   "execution_count": 123,
   "metadata": {},
   "outputs": [
    {
     "name": "stdout",
     "output_type": "stream",
     "text": [
      "[-0.1448224328591933, 5.434566924582768]\n"
     ]
    }
   ],
   "source": [
    "print(comfPMV(26.0, 18.0, 0.2, 10.0, 1.2, 1.0, 0))"
   ]
  },
  {
   "cell_type": "code",
   "execution_count": 124,
   "metadata": {},
   "outputs": [
    {
     "name": "stdout",
     "output_type": "stream",
     "text": [
      "[0.004892570828504733, 5.000495513562271]\n"
     ]
    }
   ],
   "source": [
    "print(comfPMV(26.0, 18.0, 0.2, 30.0, 1.2, 1.0, 0))"
   ]
  },
  {
   "cell_type": "code",
   "execution_count": 125,
   "metadata": {},
   "outputs": [
    {
     "name": "stdout",
     "output_type": "stream",
     "text": [
      "[-0.2053863707595934, 5.874835994506412]\n"
     ]
    }
   ],
   "source": [
    "print(comfPMV(26.0, 18.0, 0.2, 30.0, 1.1, 1.0, 0))"
   ]
  },
  {
   "cell_type": "code",
   "execution_count": 126,
   "metadata": {},
   "outputs": [
    {
     "name": "stdout",
     "output_type": "stream",
     "text": [
      "[-0.4665688021648925, 9.544852908274805]\n"
     ]
    }
   ],
   "source": [
    "print(comfPMV(26.0, 18.0, 0.2, 30.0, 1.0, 1.0, 0))"
   ]
  },
  {
   "cell_type": "code",
   "execution_count": 127,
   "metadata": {},
   "outputs": [
    {
     "name": "stdout",
     "output_type": "stream",
     "text": [
      "[-0.9772958981527147, 25.173511374923237]\n"
     ]
    }
   ],
   "source": [
    "print(comfPMV(26.0, 18.0, 0.2, 30.0, 0.9, 1.0, 0))"
   ]
  },
  {
   "cell_type": "code",
   "execution_count": 128,
   "metadata": {},
   "outputs": [
    {
     "name": "stdout",
     "output_type": "stream",
     "text": [
      "[-1.6324207692408848, 58.107112061458665]\n"
     ]
    }
   ],
   "source": [
    "print(comfPMV(26.0, 18.0, 0.2, 30.0, 0.8, 1.0, 0))"
   ]
  },
  {
   "cell_type": "code",
   "execution_count": 129,
   "metadata": {},
   "outputs": [
    {
     "name": "stdout",
     "output_type": "stream",
     "text": [
      "[-2.4806980495859166, 93.01916762063138]\n"
     ]
    }
   ],
   "source": [
    "print(comfPMV(26.0, 18.0, 0.2, 30.0, 0.7, 1.0, 0))"
   ]
  },
  {
   "cell_type": "code",
   "execution_count": 130,
   "metadata": {},
   "outputs": [
    {
     "name": "stdout",
     "output_type": "stream",
     "text": [
      "[0.1777915343515662, 5.655251813831853]\n"
     ]
    }
   ],
   "source": [
    "print(comfPMV(26.0, 18.0, 0.2, 30.0, 1.3, 1.0, 0))"
   ]
  },
  {
   "cell_type": "code",
   "execution_count": 131,
   "metadata": {},
   "outputs": [
    {
     "name": "stdout",
     "output_type": "stream",
     "text": [
      "[0.32354127995287074, 7.176491219422402]\n"
     ]
    }
   ],
   "source": [
    "print(comfPMV(26.0, 18.0, 0.2, 30.0, 1.4, 1.0, 0))"
   ]
  },
  {
   "cell_type": "code",
   "execution_count": 132,
   "metadata": {},
   "outputs": [
    {
     "name": "stdout",
     "output_type": "stream",
     "text": [
      "[0.4498412373719343, 9.222607729101341]\n"
     ]
    }
   ],
   "source": [
    "print(comfPMV(26.0, 18.0, 0.2, 30.0, 1.5, 1.0, 0))"
   ]
  },
  {
   "cell_type": "code",
   "execution_count": 133,
   "metadata": {},
   "outputs": [
    {
     "name": "stdout",
     "output_type": "stream",
     "text": [
      "[0.562450761573282, 11.625061481177383]\n"
     ]
    }
   ],
   "source": [
    "print(comfPMV(26.0, 18.0, 0.2, 30.0, 1.6, 1.0, 0))"
   ]
  },
  {
   "cell_type": "code",
   "execution_count": 134,
   "metadata": {},
   "outputs": [
    {
     "name": "stdout",
     "output_type": "stream",
     "text": [
      "[0.6656473407571883, 14.309191014228361]\n"
     ]
    }
   ],
   "source": [
    "print(comfPMV(26.0, 18.0, 0.2, 30.0, 1.7, 1.0, 0))"
   ]
  },
  {
   "cell_type": "code",
   "execution_count": 135,
   "metadata": {},
   "outputs": [
    {
     "name": "stdout",
     "output_type": "stream",
     "text": [
      "[0.7625809237209387, 17.250124388687965]\n"
     ]
    }
   ],
   "source": [
    "print(comfPMV(26.0, 18.0, 0.2, 30.0, 1.8, 1.0, 0))"
   ]
  },
  {
   "cell_type": "code",
   "execution_count": 136,
   "metadata": {},
   "outputs": [
    {
     "name": "stdout",
     "output_type": "stream",
     "text": [
      "[-3.3185345811014573, 99.85225494990034]\n"
     ]
    }
   ],
   "source": [
    "print(comfPMV(26.0, 18.0, 0.2, 30.0, 1.2, 0.0, 0))"
   ]
  },
  {
   "cell_type": "code",
   "execution_count": 137,
   "metadata": {},
   "outputs": [
    {
     "name": "stdout",
     "output_type": "stream",
     "text": [
      "[-0.14716040757610804, 5.448724661685972]\n"
     ]
    }
   ],
   "source": [
    "print(comfPMV(26.0, 18.0, 0.2, 30.0, 1.2, 0.9, 0))"
   ]
  },
  {
   "cell_type": "code",
   "execution_count": 138,
   "metadata": {},
   "outputs": [
    {
     "name": "stdout",
     "output_type": "stream",
     "text": [
      "[-0.3214736185983449, 7.148648378721461]\n"
     ]
    }
   ],
   "source": [
    "print(comfPMV(26.0, 18.0, 0.2, 30.0, 1.2, 0.8, 0))"
   ]
  },
  {
   "cell_type": "code",
   "execution_count": 139,
   "metadata": {},
   "outputs": [
    {
     "name": "stdout",
     "output_type": "stream",
     "text": [
      "[-0.5197739861839453, 10.650056126533258]\n"
     ]
    }
   ],
   "source": [
    "print(comfPMV(26.0, 18.0, 0.2, 30.0, 1.2, 0.7, 0))"
   ]
  },
  {
   "cell_type": "code",
   "execution_count": 140,
   "metadata": {},
   "outputs": [
    {
     "name": "stdout",
     "output_type": "stream",
     "text": [
      "[0.13981908812060417, 5.405033364362694]\n"
     ]
    }
   ],
   "source": [
    "print(comfPMV(26.0, 18.0, 0.2, 30.0, 1.2, 1.1, 0))"
   ]
  },
  {
   "cell_type": "code",
   "execution_count": 141,
   "metadata": {},
   "outputs": [
    {
     "name": "stdout",
     "output_type": "stream",
     "text": [
      "[0.26036950616081467, 6.407443392260447]\n"
     ]
    }
   ],
   "source": [
    "print(comfPMV(26.0, 18.0, 0.2, 30.0, 1.2, 1.2, 0))"
   ]
  },
  {
   "cell_type": "code",
   "execution_count": 142,
   "metadata": {},
   "outputs": [
    {
     "name": "stdout",
     "output_type": "stream",
     "text": [
      "[0.3705359161261998, 7.858277860717791]\n"
     ]
    }
   ],
   "source": [
    "print(comfPMV(26.0, 18.0, 0.2, 30.0, 1.2, 1.3, 0))"
   ]
  },
  {
   "cell_type": "code",
   "execution_count": 143,
   "metadata": {},
   "outputs": [
    {
     "name": "stdout",
     "output_type": "stream",
     "text": [
      "[-3.210388069089246, 99.71454802279743]\n"
     ]
    }
   ],
   "source": [
    "print(comfPMV(26.0, 18.0, 0.2, 30.0, 1.2, 1.0, 1))"
   ]
  },
  {
   "cell_type": "code",
   "execution_count": 144,
   "metadata": {},
   "outputs": [
    {
     "name": "stdout",
     "output_type": "stream",
     "text": [
      "[-1.4743062462455114, 49.506561468518996]\n"
     ]
    }
   ],
   "source": [
    "print(comfPMV(26.0, 18.0, 0.2, 30.0, 1.2, 1.0, 0.5))"
   ]
  },
  {
   "cell_type": "code",
   "execution_count": 145,
   "metadata": {},
   "outputs": [
    {
     "name": "stdout",
     "output_type": "stream",
     "text": [
      "[1.0988090284917071, 30.459487447103314]\n"
     ]
    }
   ],
   "source": [
    "print(comfPMV(26.0, 18.0, 0.2, 30.0, 1.2, 1.0, -0.5))"
   ]
  },
  {
   "cell_type": "code",
   "execution_count": null,
   "metadata": {},
   "outputs": [],
   "source": []
  }
 ],
 "metadata": {
  "kernelspec": {
   "display_name": "Python 3",
   "language": "python",
   "name": "python3"
  },
  "language_info": {
   "codemirror_mode": {
    "name": "ipython",
    "version": 3
   },
   "file_extension": ".py",
   "mimetype": "text/x-python",
   "name": "python",
   "nbconvert_exporter": "python",
   "pygments_lexer": "ipython3",
   "version": "3.7.2"
  }
 },
 "nbformat": 4,
 "nbformat_minor": 4
}
