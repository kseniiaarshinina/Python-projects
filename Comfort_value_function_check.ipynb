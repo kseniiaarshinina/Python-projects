{
 "cells": [
  {
   "cell_type": "code",
   "execution_count": 4,
   "metadata": {},
   "outputs": [
    {
     "ename": "SyntaxError",
     "evalue": "invalid syntax (<ipython-input-4-c7695c0c4c21>, line 19)",
     "output_type": "error",
     "traceback": [
      "\u001b[0;36m  File \u001b[0;32m\"<ipython-input-4-c7695c0c4c21>\"\u001b[0;36m, line \u001b[0;32m19\u001b[0m\n\u001b[0;31m    ci_l + \"<=\" + \"-0.05\" + \"/n\"\u001b[0m\n\u001b[0m       ^\u001b[0m\n\u001b[0;31mSyntaxError\u001b[0m\u001b[0;31m:\u001b[0m invalid syntax\n"
     ]
    }
   ],
   "source": [
    "def comfort_value_function(comfortInd, target_ind, comfort_range):\n",
    "        ci = abs(comfortInd + target_ind)\n",
    "        print(ci)\n",
    "        ci_l = comfortInd + target_ind\n",
    "        print(ci_l)\n",
    "\n",
    "        if ci > comfort_range / 2:\n",
    "            # ci *= -20.    # index and power consumptions should gives 'equal' to value we can adjust it later\n",
    "            print(ci + \">\" + (comfort_range / 2))\n",
    "            ci = -1\n",
    "        elif (\n",
    "            ci_l >= -comfort_range / 2\n",
    "            and ci_l <= -0.05\n",
    "            or ci_l <= comfort_range / 2\n",
    "            and ci_l >= 0.05\n",
    "        ):\n",
    "            print(ci_l + \">=\" + (-comfort_range / 2))\n",
    "            print(\"%s <= -0.05\", %ci_l)\n",
    "            print(ci_l + \"<=\" + (comfort_range / 2))\n",
    "            print(\"%s >= 0.05\", %ci_l)\n",
    "            ci = 0.5\n",
    "        else:\n",
    "            ci = 1\n",
    "        return ci"
   ]
  },
  {
   "cell_type": "code",
   "execution_count": 2,
   "metadata": {},
   "outputs": [
    {
     "name": "stdout",
     "output_type": "stream",
     "text": [
      "0.5\n"
     ]
    }
   ],
   "source": [
    "print(comfort_value_function(0.1, 0.0, 0.3))"
   ]
  },
  {
   "cell_type": "code",
   "execution_count": 3,
   "metadata": {},
   "outputs": [
    {
     "name": "stdout",
     "output_type": "stream",
     "text": [
      "0.5\n"
     ]
    }
   ],
   "source": [
    "print(comfort_value_function(0.1, 0.0, 0.3))"
   ]
  },
  {
   "cell_type": "code",
   "execution_count": 5,
   "metadata": {},
   "outputs": [
    {
     "data": {
      "text/plain": [
       "0.5"
      ]
     },
     "execution_count": 5,
     "metadata": {},
     "output_type": "execute_result"
    }
   ],
   "source": [
    "comfort_value_function(0.1, 0.0, 0.3)"
   ]
  },
  {
   "cell_type": "code",
   "execution_count": 7,
   "metadata": {},
   "outputs": [
    {
     "data": {
      "text/plain": [
       "0.5"
      ]
     },
     "execution_count": 7,
     "metadata": {},
     "output_type": "execute_result"
    }
   ],
   "source": [
    "comfort_value_function(0.1, 0.0, 0.3)"
   ]
  },
  {
   "cell_type": "code",
   "execution_count": 9,
   "metadata": {},
   "outputs": [],
   "source": [
    "def comfort_value_function(comfortInd, target_ind, comfort_range):\n",
    "        ci = abs(comfortInd + target_ind)\n",
    "        print(ci)\n",
    "        ci_l = comfortInd + target_ind\n",
    "        print(ci_l)\n",
    "\n",
    "        if ci > comfort_range / 2:\n",
    "            # ci *= -20.    # index and power consumptions should gives 'equal' to value we can adjust it later\n",
    "            print(ci + \">\" + (comfort_range / 2))\n",
    "            ci = -1\n",
    "        elif (\n",
    "            ci_l >= -comfort_range / 2\n",
    "            and ci_l <= -0.05\n",
    "            or ci_l <= comfort_range / 2\n",
    "            and ci_l >= 0.05\n",
    "        ):\n",
    "            print(ci_l + \">=\" + (-comfort_range / 2))\n",
    "            print(\"{} <= -0.05\", format(ci_l))\n",
    "            print(ci_l + \"<=\" + (comfort_range / 2))\n",
    "            print(\"{} >= 0.05\", format(ci_l))\n",
    "            ci = 0.5\n",
    "        else:\n",
    "            ci = 1\n",
    "        return ci"
   ]
  },
  {
   "cell_type": "code",
   "execution_count": 10,
   "metadata": {},
   "outputs": [
    {
     "name": "stdout",
     "output_type": "stream",
     "text": [
      "0.1\n",
      "0.1\n"
     ]
    },
    {
     "ename": "TypeError",
     "evalue": "unsupported operand type(s) for +: 'float' and 'str'",
     "output_type": "error",
     "traceback": [
      "\u001b[0;31m---------------------------------------------------------------------------\u001b[0m",
      "\u001b[0;31mTypeError\u001b[0m                                 Traceback (most recent call last)",
      "\u001b[0;32m<ipython-input-10-e10f265c15a6>\u001b[0m in \u001b[0;36m<module>\u001b[0;34m\u001b[0m\n\u001b[0;32m----> 1\u001b[0;31m \u001b[0mcomfort_value_function\u001b[0m\u001b[0;34m(\u001b[0m\u001b[0;36m0.1\u001b[0m\u001b[0;34m,\u001b[0m \u001b[0;36m0.0\u001b[0m\u001b[0;34m,\u001b[0m \u001b[0;36m0.3\u001b[0m\u001b[0;34m)\u001b[0m\u001b[0;34m\u001b[0m\u001b[0;34m\u001b[0m\u001b[0m\n\u001b[0m",
      "\u001b[0;32m<ipython-input-9-1a0ddcdf9c17>\u001b[0m in \u001b[0;36mcomfort_value_function\u001b[0;34m(comfortInd, target_ind, comfort_range)\u001b[0m\n\u001b[1;32m     15\u001b[0m             \u001b[0;32mand\u001b[0m \u001b[0mci_l\u001b[0m \u001b[0;34m>=\u001b[0m \u001b[0;36m0.05\u001b[0m\u001b[0;34m\u001b[0m\u001b[0;34m\u001b[0m\u001b[0m\n\u001b[1;32m     16\u001b[0m         ):\n\u001b[0;32m---> 17\u001b[0;31m             \u001b[0mprint\u001b[0m\u001b[0;34m(\u001b[0m\u001b[0mci_l\u001b[0m \u001b[0;34m+\u001b[0m \u001b[0;34m\">=\"\u001b[0m \u001b[0;34m+\u001b[0m \u001b[0;34m(\u001b[0m\u001b[0;34m-\u001b[0m\u001b[0mcomfort_range\u001b[0m \u001b[0;34m/\u001b[0m \u001b[0;36m2\u001b[0m\u001b[0;34m)\u001b[0m\u001b[0;34m)\u001b[0m\u001b[0;34m\u001b[0m\u001b[0;34m\u001b[0m\u001b[0m\n\u001b[0m\u001b[1;32m     18\u001b[0m             \u001b[0mprint\u001b[0m\u001b[0;34m(\u001b[0m\u001b[0;34m\"{} <= -0.05\"\u001b[0m\u001b[0;34m,\u001b[0m \u001b[0mformat\u001b[0m\u001b[0;34m(\u001b[0m\u001b[0mci_l\u001b[0m\u001b[0;34m)\u001b[0m\u001b[0;34m)\u001b[0m\u001b[0;34m\u001b[0m\u001b[0;34m\u001b[0m\u001b[0m\n\u001b[1;32m     19\u001b[0m             \u001b[0mprint\u001b[0m\u001b[0;34m(\u001b[0m\u001b[0mci_l\u001b[0m \u001b[0;34m+\u001b[0m \u001b[0;34m\"<=\"\u001b[0m \u001b[0;34m+\u001b[0m \u001b[0;34m(\u001b[0m\u001b[0mcomfort_range\u001b[0m \u001b[0;34m/\u001b[0m \u001b[0;36m2\u001b[0m\u001b[0;34m)\u001b[0m\u001b[0;34m)\u001b[0m\u001b[0;34m\u001b[0m\u001b[0;34m\u001b[0m\u001b[0m\n",
      "\u001b[0;31mTypeError\u001b[0m: unsupported operand type(s) for +: 'float' and 'str'"
     ]
    }
   ],
   "source": [
    "comfort_value_function(0.1, 0.0, 0.3)"
   ]
  },
  {
   "cell_type": "code",
   "execution_count": 11,
   "metadata": {},
   "outputs": [],
   "source": [
    "def comfort_value_function(comfortInd, target_ind, comfort_range):\n",
    "        ci = abs(comfortInd + target_ind)\n",
    "        print(ci)\n",
    "        ci_l = comfortInd + target_ind\n",
    "        print(ci_l)\n",
    "\n",
    "        if ci > comfort_range / 2:\n",
    "            # ci *= -20.    # index and power consumptions should gives 'equal' to value we can adjust it later\n",
    "            print(ci + \">\" + (comfort_range / 2))\n",
    "            ci = -1\n",
    "        elif (\n",
    "            ci_l >= -comfort_range / 2\n",
    "            and ci_l <= -0.05\n",
    "            or ci_l <= comfort_range / 2\n",
    "            and ci_l >= 0.05\n",
    "        ):\n",
    "            print(\"{} >= {}\", format(str(ci_l), str(-comfort_range / 2)))\n",
    "            print(\"{} <= -0.05\", format(str(ci_l)))\n",
    "            print(\"{} <= {}\", format(str(ci_l), str(comfort_range / 2)))\n",
    "            print(\"{} >= 0.05\", format(str(ci_l)))\n",
    "            ci = 0.5\n",
    "        else:\n",
    "            ci = 1\n",
    "        return ci"
   ]
  },
  {
   "cell_type": "code",
   "execution_count": 12,
   "metadata": {},
   "outputs": [
    {
     "name": "stdout",
     "output_type": "stream",
     "text": [
      "0.1\n",
      "0.1\n"
     ]
    },
    {
     "ename": "TypeError",
     "evalue": "format() argument 2 must be str, not float",
     "output_type": "error",
     "traceback": [
      "\u001b[0;31m---------------------------------------------------------------------------\u001b[0m",
      "\u001b[0;31mTypeError\u001b[0m                                 Traceback (most recent call last)",
      "\u001b[0;32m<ipython-input-12-e10f265c15a6>\u001b[0m in \u001b[0;36m<module>\u001b[0;34m\u001b[0m\n\u001b[0;32m----> 1\u001b[0;31m \u001b[0mcomfort_value_function\u001b[0m\u001b[0;34m(\u001b[0m\u001b[0;36m0.1\u001b[0m\u001b[0;34m,\u001b[0m \u001b[0;36m0.0\u001b[0m\u001b[0;34m,\u001b[0m \u001b[0;36m0.3\u001b[0m\u001b[0;34m)\u001b[0m\u001b[0;34m\u001b[0m\u001b[0;34m\u001b[0m\u001b[0m\n\u001b[0m",
      "\u001b[0;32m<ipython-input-11-027d360a73f3>\u001b[0m in \u001b[0;36mcomfort_value_function\u001b[0;34m(comfortInd, target_ind, comfort_range)\u001b[0m\n\u001b[1;32m     15\u001b[0m             \u001b[0;32mand\u001b[0m \u001b[0mci_l\u001b[0m \u001b[0;34m>=\u001b[0m \u001b[0;36m0.05\u001b[0m\u001b[0;34m\u001b[0m\u001b[0;34m\u001b[0m\u001b[0m\n\u001b[1;32m     16\u001b[0m         ):\n\u001b[0;32m---> 17\u001b[0;31m             \u001b[0mprint\u001b[0m\u001b[0;34m(\u001b[0m\u001b[0;34m\"{} >= {}\"\u001b[0m\u001b[0;34m,\u001b[0m \u001b[0mformat\u001b[0m\u001b[0;34m(\u001b[0m\u001b[0mci_l\u001b[0m\u001b[0;34m,\u001b[0m \u001b[0;34m-\u001b[0m\u001b[0mcomfort_range\u001b[0m \u001b[0;34m/\u001b[0m \u001b[0;36m2\u001b[0m\u001b[0;34m)\u001b[0m\u001b[0;34m)\u001b[0m\u001b[0;34m\u001b[0m\u001b[0;34m\u001b[0m\u001b[0m\n\u001b[0m\u001b[1;32m     18\u001b[0m             \u001b[0mprint\u001b[0m\u001b[0;34m(\u001b[0m\u001b[0;34m\"{} <= -0.05\"\u001b[0m\u001b[0;34m,\u001b[0m \u001b[0mformat\u001b[0m\u001b[0;34m(\u001b[0m\u001b[0mci_l\u001b[0m\u001b[0;34m)\u001b[0m\u001b[0;34m)\u001b[0m\u001b[0;34m\u001b[0m\u001b[0;34m\u001b[0m\u001b[0m\n\u001b[1;32m     19\u001b[0m             \u001b[0mprint\u001b[0m\u001b[0;34m(\u001b[0m\u001b[0;34m\"{} <= {}\"\u001b[0m\u001b[0;34m,\u001b[0m \u001b[0mformat\u001b[0m\u001b[0;34m(\u001b[0m\u001b[0mci_l\u001b[0m\u001b[0;34m,\u001b[0m \u001b[0mcomfort_range\u001b[0m \u001b[0;34m/\u001b[0m \u001b[0;36m2\u001b[0m\u001b[0;34m)\u001b[0m\u001b[0;34m)\u001b[0m\u001b[0;34m\u001b[0m\u001b[0;34m\u001b[0m\u001b[0m\n",
      "\u001b[0;31mTypeError\u001b[0m: format() argument 2 must be str, not float"
     ]
    }
   ],
   "source": [
    "comfort_value_function(0.1, 0.0, 0.3)"
   ]
  },
  {
   "cell_type": "code",
   "execution_count": 13,
   "metadata": {},
   "outputs": [],
   "source": [
    "def comfort_value_function(comfortInd, target_ind, comfort_range):\n",
    "        ci = abs(comfortInd + target_ind)\n",
    "        print(ci)\n",
    "        ci_l = comfortInd + target_ind\n",
    "        print(ci_l)\n",
    "\n",
    "        if ci > comfort_range / 2:\n",
    "            # ci *= -20.    # index and power consumptions should gives 'equal' to value we can adjust it later\n",
    "            ci = -1\n",
    "        elif (\n",
    "            ci_l >= -comfort_range / 2\n",
    "            and ci_l <= -0.05\n",
    "            or ci_l <= comfort_range / 2\n",
    "            and ci_l >= 0.05\n",
    "        ):\n",
    "            ci = 0.5\n",
    "        else:\n",
    "            ci = 1\n",
    "        return ci"
   ]
  },
  {
   "cell_type": "code",
   "execution_count": 14,
   "metadata": {},
   "outputs": [
    {
     "name": "stdout",
     "output_type": "stream",
     "text": [
      "0.1\n",
      "0.1\n"
     ]
    },
    {
     "ename": "ValueError",
     "evalue": "Sign not allowed in string format specifier",
     "output_type": "error",
     "traceback": [
      "\u001b[0;31m---------------------------------------------------------------------------\u001b[0m",
      "\u001b[0;31mValueError\u001b[0m                                Traceback (most recent call last)",
      "\u001b[0;32m<ipython-input-14-e10f265c15a6>\u001b[0m in \u001b[0;36m<module>\u001b[0;34m\u001b[0m\n\u001b[0;32m----> 1\u001b[0;31m \u001b[0mcomfort_value_function\u001b[0m\u001b[0;34m(\u001b[0m\u001b[0;36m0.1\u001b[0m\u001b[0;34m,\u001b[0m \u001b[0;36m0.0\u001b[0m\u001b[0;34m,\u001b[0m \u001b[0;36m0.3\u001b[0m\u001b[0;34m)\u001b[0m\u001b[0;34m\u001b[0m\u001b[0;34m\u001b[0m\u001b[0m\n\u001b[0m",
      "\u001b[0;32m<ipython-input-13-456df62aa51b>\u001b[0m in \u001b[0;36mcomfort_value_function\u001b[0;34m(comfortInd, target_ind, comfort_range)\u001b[0m\n\u001b[1;32m     15\u001b[0m             \u001b[0;32mand\u001b[0m \u001b[0mci_l\u001b[0m \u001b[0;34m>=\u001b[0m \u001b[0;36m0.05\u001b[0m\u001b[0;34m\u001b[0m\u001b[0;34m\u001b[0m\u001b[0m\n\u001b[1;32m     16\u001b[0m         ):\n\u001b[0;32m---> 17\u001b[0;31m             \u001b[0mprint\u001b[0m\u001b[0;34m(\u001b[0m\u001b[0;34m\"{} >= {}\"\u001b[0m\u001b[0;34m,\u001b[0m \u001b[0mformat\u001b[0m\u001b[0;34m(\u001b[0m\u001b[0mstr\u001b[0m\u001b[0;34m(\u001b[0m\u001b[0mci_l\u001b[0m\u001b[0;34m)\u001b[0m\u001b[0;34m,\u001b[0m \u001b[0mstr\u001b[0m\u001b[0;34m(\u001b[0m\u001b[0;34m-\u001b[0m\u001b[0mcomfort_range\u001b[0m \u001b[0;34m/\u001b[0m \u001b[0;36m2\u001b[0m\u001b[0;34m)\u001b[0m\u001b[0;34m)\u001b[0m\u001b[0;34m)\u001b[0m\u001b[0;34m\u001b[0m\u001b[0;34m\u001b[0m\u001b[0m\n\u001b[0m\u001b[1;32m     18\u001b[0m             \u001b[0mprint\u001b[0m\u001b[0;34m(\u001b[0m\u001b[0;34m\"{} <= -0.05\"\u001b[0m\u001b[0;34m,\u001b[0m \u001b[0mformat\u001b[0m\u001b[0;34m(\u001b[0m\u001b[0mstr\u001b[0m\u001b[0;34m(\u001b[0m\u001b[0mci_l\u001b[0m\u001b[0;34m)\u001b[0m\u001b[0;34m)\u001b[0m\u001b[0;34m)\u001b[0m\u001b[0;34m\u001b[0m\u001b[0;34m\u001b[0m\u001b[0m\n\u001b[1;32m     19\u001b[0m             \u001b[0mprint\u001b[0m\u001b[0;34m(\u001b[0m\u001b[0;34m\"{} <= {}\"\u001b[0m\u001b[0;34m,\u001b[0m \u001b[0mformat\u001b[0m\u001b[0;34m(\u001b[0m\u001b[0mstr\u001b[0m\u001b[0;34m(\u001b[0m\u001b[0mci_l\u001b[0m\u001b[0;34m)\u001b[0m\u001b[0;34m,\u001b[0m \u001b[0mstr\u001b[0m\u001b[0;34m(\u001b[0m\u001b[0mcomfort_range\u001b[0m \u001b[0;34m/\u001b[0m \u001b[0;36m2\u001b[0m\u001b[0;34m)\u001b[0m\u001b[0;34m)\u001b[0m\u001b[0;34m)\u001b[0m\u001b[0;34m\u001b[0m\u001b[0;34m\u001b[0m\u001b[0m\n",
      "\u001b[0;31mValueError\u001b[0m: Sign not allowed in string format specifier"
     ]
    }
   ],
   "source": [
    "comfort_value_function(0.1, 0.0, 0.3)"
   ]
  },
  {
   "cell_type": "code",
   "execution_count": 15,
   "metadata": {},
   "outputs": [],
   "source": [
    "def comfort_value_function(comfortInd, target_ind, comfort_range):\n",
    "        ci = abs(comfortInd + target_ind)\n",
    "        print(ci)\n",
    "        ci_l = comfortInd + target_ind\n",
    "        print(ci_l)\n",
    "        print(comfort_range / 2)\n",
    "\n",
    "        if ci > comfort_range / 2:\n",
    "            # ci *= -20.    # index and power consumptions should gives 'equal' to value we can adjust it later\n",
    "            ci = -1\n",
    "        elif (\n",
    "            ci_l >= -comfort_range / 2\n",
    "            and ci_l <= -0.05\n",
    "            or ci_l <= comfort_range / 2\n",
    "            and ci_l >= 0.05\n",
    "        ):\n",
    "            ci = 0.5\n",
    "        else:\n",
    "            ci = 1\n",
    "        return ci"
   ]
  },
  {
   "cell_type": "code",
   "execution_count": 16,
   "metadata": {},
   "outputs": [
    {
     "name": "stdout",
     "output_type": "stream",
     "text": [
      "0.1\n",
      "0.1\n"
     ]
    },
    {
     "data": {
      "text/plain": [
       "0.5"
      ]
     },
     "execution_count": 16,
     "metadata": {},
     "output_type": "execute_result"
    }
   ],
   "source": [
    "comfort_value_function(0.1, 0.0, 0.3)"
   ]
  },
  {
   "cell_type": "code",
   "execution_count": 17,
   "metadata": {},
   "outputs": [
    {
     "name": "stdout",
     "output_type": "stream",
     "text": [
      "0.1\n",
      "0.1\n"
     ]
    },
    {
     "data": {
      "text/plain": [
       "0.5"
      ]
     },
     "execution_count": 17,
     "metadata": {},
     "output_type": "execute_result"
    }
   ],
   "source": [
    "comfort_value_function(0.1, 0.0, 0.3)"
   ]
  },
  {
   "cell_type": "code",
   "execution_count": 18,
   "metadata": {},
   "outputs": [],
   "source": [
    "def comfort_value_function(comfortInd, target_ind, comfort_range):\n",
    "        ci = abs(comfortInd + target_ind)\n",
    "        print(ci)\n",
    "        ci_l = comfortInd + target_ind\n",
    "        print(ci_l)\n",
    "        print(comfort_range / 2)\n",
    "\n",
    "        if ci > comfort_range / 2:\n",
    "            # ci *= -20.    # index and power consumptions should gives 'equal' to value we can adjust it later\n",
    "            ci = -1\n",
    "        elif (\n",
    "            ci_l >= -comfort_range / 2\n",
    "            and ci_l <= -0.05\n",
    "            or ci_l <= comfort_range / 2\n",
    "            and ci_l >= 0.05\n",
    "        ):\n",
    "            ci = 0.5\n",
    "        else:\n",
    "            ci = 1\n",
    "        return ci"
   ]
  },
  {
   "cell_type": "code",
   "execution_count": 19,
   "metadata": {},
   "outputs": [
    {
     "name": "stdout",
     "output_type": "stream",
     "text": [
      "0.1\n",
      "0.1\n",
      "0.15\n"
     ]
    },
    {
     "data": {
      "text/plain": [
       "0.5"
      ]
     },
     "execution_count": 19,
     "metadata": {},
     "output_type": "execute_result"
    }
   ],
   "source": [
    "comfort_value_function(0.1, 0.0, 0.3)"
   ]
  },
  {
   "cell_type": "code",
   "execution_count": 20,
   "metadata": {},
   "outputs": [
    {
     "name": "stdout",
     "output_type": "stream",
     "text": [
      "0.4\n",
      "0.4\n",
      "0.15\n"
     ]
    },
    {
     "data": {
      "text/plain": [
       "-1"
      ]
     },
     "execution_count": 20,
     "metadata": {},
     "output_type": "execute_result"
    }
   ],
   "source": [
    "comfort_value_function(0.1, 0.3, 0.3)"
   ]
  },
  {
   "cell_type": "code",
   "execution_count": 21,
   "metadata": {},
   "outputs": [
    {
     "name": "stdout",
     "output_type": "stream",
     "text": [
      "0.3\n",
      "0.3\n",
      "0.15\n"
     ]
    },
    {
     "data": {
      "text/plain": [
       "-1"
      ]
     },
     "execution_count": 21,
     "metadata": {},
     "output_type": "execute_result"
    }
   ],
   "source": [
    "comfort_value_function(0.0, 0.3, 0.3)"
   ]
  },
  {
   "cell_type": "code",
   "execution_count": 22,
   "metadata": {},
   "outputs": [
    {
     "name": "stdout",
     "output_type": "stream",
     "text": [
      "0.19999999999999998\n",
      "-0.19999999999999998\n",
      "0.15\n"
     ]
    },
    {
     "data": {
      "text/plain": [
       "-1"
      ]
     },
     "execution_count": 22,
     "metadata": {},
     "output_type": "execute_result"
    }
   ],
   "source": [
    "comfort_value_function(0.1, -0.3, 0.3)"
   ]
  },
  {
   "cell_type": "code",
   "execution_count": 23,
   "metadata": {},
   "outputs": [
    {
     "name": "stdout",
     "output_type": "stream",
     "text": [
      "0.4\n",
      "-0.4\n",
      "0.15\n"
     ]
    },
    {
     "data": {
      "text/plain": [
       "-1"
      ]
     },
     "execution_count": 23,
     "metadata": {},
     "output_type": "execute_result"
    }
   ],
   "source": [
    "comfort_value_function(-0.1, -0.3, 0.3)"
   ]
  },
  {
   "cell_type": "code",
   "execution_count": 24,
   "metadata": {},
   "outputs": [
    {
     "name": "stdout",
     "output_type": "stream",
     "text": [
      "0.4\n",
      "-0.4\n",
      "0.25\n"
     ]
    },
    {
     "data": {
      "text/plain": [
       "-1"
      ]
     },
     "execution_count": 24,
     "metadata": {},
     "output_type": "execute_result"
    }
   ],
   "source": [
    "comfort_value_function(-0.1, -0.3, 0.5)"
   ]
  },
  {
   "cell_type": "code",
   "execution_count": 25,
   "metadata": {},
   "outputs": [],
   "source": [
    "def comfort_value_function(comfortInd, target_ind, comfort_range):\n",
    "        # find the difference between comfort (current) index and target index\n",
    "        ci = abs(target_ind - comfortInd)\n",
    "        # ci_l = comfortInd + target_ind - delete that\n",
    "\n",
    "        if ci > comfort_range / 2 + target_range:\n",
    "            # ci *= -20.    # index and power consumptions should gives 'equal' to value we can adjust it later\n",
    "            ci = -1\n",
    "        elif (\n",
    "            # ci_l >= -comfort_range / 2\n",
    "            # and ci_l <= -0.05\n",
    "            # or ci_l <= comfort_range / 2\n",
    "            # and ci_l >= 0.05\n",
    "            ci >= target_ind + 0.05\n",
    "            and ci <= comfort_range / 2 + target_range\n",
    "        ):\n",
    "            ci = 0.5\n",
    "        else:\n",
    "            ci = 1\n",
    "        return ci"
   ]
  },
  {
   "cell_type": "code",
   "execution_count": 26,
   "metadata": {},
   "outputs": [
    {
     "data": {
      "text/plain": [
       "-1"
      ]
     },
     "execution_count": 26,
     "metadata": {},
     "output_type": "execute_result"
    }
   ],
   "source": [
    "comfort_value_function(0.1, 0.3, 0.5)"
   ]
  },
  {
   "cell_type": "code",
   "execution_count": 27,
   "metadata": {},
   "outputs": [],
   "source": [
    "def comfort_value_function(comfortInd, target_ind, comfort_range):\n",
    "        # find the difference between comfort (current) index and target index\n",
    "        ci = abs(target_ind - comfortInd)\n",
    "        # ci_l = comfortInd + target_ind - delete that\n",
    "\n",
    "        if ci > comfort_range / 2 + target_ind:\n",
    "            # ci *= -20.    # index and power consumptions should gives 'equal' to value we can adjust it later\n",
    "            ci = -1\n",
    "        elif (\n",
    "            # ci_l >= -comfort_range / 2\n",
    "            # and ci_l <= -0.05\n",
    "            # or ci_l <= comfort_range / 2\n",
    "            # and ci_l >= 0.05\n",
    "            ci >= target_ind + 0.05\n",
    "            and ci <= comfort_range / 2 + target_ind\n",
    "        ):\n",
    "            ci = 0.5\n",
    "        else:\n",
    "            ci = 1\n",
    "        return ci"
   ]
  },
  {
   "cell_type": "code",
   "execution_count": 28,
   "metadata": {},
   "outputs": [
    {
     "ename": "NameError",
     "evalue": "name 'target_range' is not defined",
     "output_type": "error",
     "traceback": [
      "\u001b[0;31m---------------------------------------------------------------------------\u001b[0m",
      "\u001b[0;31mNameError\u001b[0m                                 Traceback (most recent call last)",
      "\u001b[0;32m<ipython-input-28-47dd6c44304d>\u001b[0m in \u001b[0;36m<module>\u001b[0;34m\u001b[0m\n\u001b[0;32m----> 1\u001b[0;31m \u001b[0mcomfort_value_function\u001b[0m\u001b[0;34m(\u001b[0m\u001b[0;36m0.1\u001b[0m\u001b[0;34m,\u001b[0m \u001b[0;36m0.3\u001b[0m\u001b[0;34m,\u001b[0m \u001b[0;36m0.5\u001b[0m\u001b[0;34m)\u001b[0m\u001b[0;34m\u001b[0m\u001b[0;34m\u001b[0m\u001b[0m\n\u001b[0m",
      "\u001b[0;32m<ipython-input-27-ec9362199e6d>\u001b[0m in \u001b[0;36mcomfort_value_function\u001b[0;34m(comfortInd, target_ind, comfort_range)\u001b[0m\n\u001b[1;32m      4\u001b[0m         \u001b[0;31m# ci_l = comfortInd + target_ind - delete that\u001b[0m\u001b[0;34m\u001b[0m\u001b[0;34m\u001b[0m\u001b[0;34m\u001b[0m\u001b[0m\n\u001b[1;32m      5\u001b[0m \u001b[0;34m\u001b[0m\u001b[0m\n\u001b[0;32m----> 6\u001b[0;31m         \u001b[0;32mif\u001b[0m \u001b[0mci\u001b[0m \u001b[0;34m>\u001b[0m \u001b[0mcomfort_range\u001b[0m \u001b[0;34m/\u001b[0m \u001b[0;36m2\u001b[0m \u001b[0;34m+\u001b[0m \u001b[0mtarget_range\u001b[0m\u001b[0;34m:\u001b[0m\u001b[0;34m\u001b[0m\u001b[0;34m\u001b[0m\u001b[0m\n\u001b[0m\u001b[1;32m      7\u001b[0m             \u001b[0;31m# ci *= -20.    # index and power consumptions should gives 'equal' to value we can adjust it later\u001b[0m\u001b[0;34m\u001b[0m\u001b[0;34m\u001b[0m\u001b[0;34m\u001b[0m\u001b[0m\n\u001b[1;32m      8\u001b[0m             \u001b[0mci\u001b[0m \u001b[0;34m=\u001b[0m \u001b[0;34m-\u001b[0m\u001b[0;36m1\u001b[0m\u001b[0;34m\u001b[0m\u001b[0;34m\u001b[0m\u001b[0m\n",
      "\u001b[0;31mNameError\u001b[0m: name 'target_range' is not defined"
     ]
    }
   ],
   "source": [
    "comfort_value_function(0.1, 0.3, 0.5)"
   ]
  },
  {
   "cell_type": "code",
   "execution_count": 39,
   "metadata": {},
   "outputs": [],
   "source": [
    "def comfort_value_function(comfortInd, target_ind, comfort_range):\n",
    "        # make sure the negative numbers don't mess up\n",
    "        if comfortInd < 0:\n",
    "            ci = abs(target_ind + comfortInd)\n",
    "        else:\n",
    "        # find the difference between comfort (current) index and target index\n",
    "            ci = abs(target_ind - comfortInd)\n",
    "            # ci_l = comfortInd + target_ind - delete that\n",
    "\n",
    "        if ci > comfort_range / 2 + target_ind:\n",
    "            # ci *= -20.    # index and power consumptions should gives 'equal' to value we can adjust it later\n",
    "            ci = -1\n",
    "        elif (\n",
    "            # ci_l >= -comfort_range / 2\n",
    "            # and ci_l <= -0.05\n",
    "            # or ci_l <= comfort_range / 2\n",
    "            # and ci_l >= 0.05\n",
    "            ci >= target_ind + 0.05\n",
    "            and ci <= comfort_range / 2 + target_ind\n",
    "        ):\n",
    "            ci = 0.5\n",
    "        else:\n",
    "            ci = 1\n",
    "        return ci"
   ]
  },
  {
   "cell_type": "code",
   "execution_count": 30,
   "metadata": {},
   "outputs": [
    {
     "data": {
      "text/plain": [
       "1"
      ]
     },
     "execution_count": 30,
     "metadata": {},
     "output_type": "execute_result"
    }
   ],
   "source": [
    "comfort_value_function(0.1, 0.3, 0.5)"
   ]
  },
  {
   "cell_type": "code",
   "execution_count": 31,
   "metadata": {},
   "outputs": [
    {
     "data": {
      "text/plain": [
       "1"
      ]
     },
     "execution_count": 31,
     "metadata": {},
     "output_type": "execute_result"
    }
   ],
   "source": [
    "comfort_value_function(0.2, 0.3, 0.5)"
   ]
  },
  {
   "cell_type": "code",
   "execution_count": 32,
   "metadata": {},
   "outputs": [
    {
     "data": {
      "text/plain": [
       "1"
      ]
     },
     "execution_count": 32,
     "metadata": {},
     "output_type": "execute_result"
    }
   ],
   "source": [
    "comfort_value_function(0.3, 0.3, 0.5)"
   ]
  },
  {
   "cell_type": "code",
   "execution_count": 33,
   "metadata": {},
   "outputs": [
    {
     "data": {
      "text/plain": [
       "1"
      ]
     },
     "execution_count": 33,
     "metadata": {},
     "output_type": "execute_result"
    }
   ],
   "source": [
    "comfort_value_function(0.2, 0.3, 0.3)"
   ]
  },
  {
   "cell_type": "code",
   "execution_count": 34,
   "metadata": {},
   "outputs": [
    {
     "data": {
      "text/plain": [
       "0.5"
      ]
     },
     "execution_count": 34,
     "metadata": {},
     "output_type": "execute_result"
    }
   ],
   "source": [
    "comfort_value_function(0.1, 0.0, 0.3)"
   ]
  },
  {
   "cell_type": "code",
   "execution_count": 35,
   "metadata": {},
   "outputs": [
    {
     "data": {
      "text/plain": [
       "0.5"
      ]
     },
     "execution_count": 35,
     "metadata": {},
     "output_type": "execute_result"
    }
   ],
   "source": [
    "comfort_value_function(0.1, 0.0, 0.2)"
   ]
  },
  {
   "cell_type": "code",
   "execution_count": 36,
   "metadata": {},
   "outputs": [
    {
     "data": {
      "text/plain": [
       "-1"
      ]
     },
     "execution_count": 36,
     "metadata": {},
     "output_type": "execute_result"
    }
   ],
   "source": [
    "comfort_value_function(0.1, 0.0, 0.1)"
   ]
  },
  {
   "cell_type": "code",
   "execution_count": 37,
   "metadata": {},
   "outputs": [
    {
     "data": {
      "text/plain": [
       "-1"
      ]
     },
     "execution_count": 37,
     "metadata": {},
     "output_type": "execute_result"
    }
   ],
   "source": [
    "comfort_value_function(-0.1, -0.3, 0.5)"
   ]
  },
  {
   "cell_type": "code",
   "execution_count": 40,
   "metadata": {},
   "outputs": [],
   "source": [
    "def comfort_value_function(comfortInd, target_ind, comfort_range):\n",
    "        # find the difference between comfort (current) index and target index\n",
    "            ci = abs(abs(target_ind) - abs(comfortInd))\n",
    "            # ci_l = comfortInd + target_ind - delete that\n",
    "\n",
    "        if ci > comfort_range / 2 + target_ind:\n",
    "            # ci *= -20.    # index and power consumptions should gives 'equal' to value we can adjust it later\n",
    "            ci = -1\n",
    "        elif (\n",
    "            # ci_l >= -comfort_range / 2\n",
    "            # and ci_l <= -0.05\n",
    "            # or ci_l <= comfort_range / 2\n",
    "            # and ci_l >= 0.05\n",
    "            ci >= target_ind + 0.05\n",
    "            and ci <= comfort_range / 2 + target_ind\n",
    "        ):\n",
    "            ci = 0.5\n",
    "        else:\n",
    "            ci = 1\n",
    "        return ci"
   ]
  },
  {
   "cell_type": "code",
   "execution_count": 41,
   "metadata": {},
   "outputs": [
    {
     "data": {
      "text/plain": [
       "-1"
      ]
     },
     "execution_count": 41,
     "metadata": {},
     "output_type": "execute_result"
    }
   ],
   "source": [
    "comfort_value_function(-0.1, -0.3, 0.5)"
   ]
  },
  {
   "cell_type": "code",
   "execution_count": 44,
   "metadata": {},
   "outputs": [],
   "source": [
    "def comfort_value_function(comfortInd, target_ind, comfort_range):\n",
    "        # find the difference between comfort (current) index and target index\n",
    "        ci = abs(abs(target_ind) - abs(comfortInd))\n",
    "        # ci_l = comfortInd + target_ind - delete that\n",
    "\n",
    "        if ci > comfort_range / 2 + abs(target_ind):\n",
    "            # ci *= -20.    # index and power consumptions should gives 'equal' to value we can adjust it later\n",
    "            ci = -1\n",
    "        elif (\n",
    "            # ci_l >= -comfort_range / 2\n",
    "            # and ci_l <= -0.05\n",
    "            # or ci_l <= comfort_range / 2\n",
    "            # and ci_l >= 0.05\n",
    "            ci >= abs(target_ind) + 0.05\n",
    "            and ci <= comfort_range / 2 + abs(target_ind)\n",
    "        ):\n",
    "            ci = 0.5\n",
    "        else:\n",
    "            ci = 1\n",
    "        return ci"
   ]
  },
  {
   "cell_type": "code",
   "execution_count": 45,
   "metadata": {},
   "outputs": [
    {
     "data": {
      "text/plain": [
       "-1"
      ]
     },
     "execution_count": 45,
     "metadata": {},
     "output_type": "execute_result"
    }
   ],
   "source": [
    "comfort_value_function(-0.1, -0.3, 0.5)"
   ]
  },
  {
   "cell_type": "code",
   "execution_count": 49,
   "metadata": {},
   "outputs": [],
   "source": [
    "def comfort_value_function(comfortInd, target_ind, comfort_range):\n",
    "        # the arguments to the function are just the numbers that are inserted manually (for now)\n",
    "        # See below in execution examples\n",
    "        \n",
    "        # find the difference between comfort (current) index and target index\n",
    "        ci = abs(abs(target_ind) - abs(comfortInd))\n",
    "\n",
    "        if ci > comfort_range / 2 + abs(target_ind):\n",
    "            ci = -1\n",
    "        elif (\n",
    "            # old version of the code\n",
    "                # ci_l >= -comfort_range / 2\n",
    "                # and ci_l <= -0.05\n",
    "                # or ci_l <= comfort_range / 2\n",
    "                # and ci_l >= 0.05\n",
    "            \n",
    "            # this is to define the range where the function does good, but not good enough\n",
    "            ci >= abs(target_ind) + 0.05\n",
    "            and ci <= comfort_range / 2 + abs(target_ind)\n",
    "        ):\n",
    "            ci = 0.5\n",
    "        else:\n",
    "            ci = 1\n",
    "        return ci"
   ]
  },
  {
   "cell_type": "code",
   "execution_count": 47,
   "metadata": {},
   "outputs": [
    {
     "data": {
      "text/plain": [
       "1"
      ]
     },
     "execution_count": 47,
     "metadata": {},
     "output_type": "execute_result"
    }
   ],
   "source": [
    "comfort_value_function(-0.1, -0.3, 0.5)"
   ]
  },
  {
   "cell_type": "code",
   "execution_count": 50,
   "metadata": {},
   "outputs": [],
   "source": [
    "def comfort_value_function(comfortInd, target_ind, comfort_range):\n",
    "        # the arguments to the function are just the numbers that are inserted manually (for now)\n",
    "        # See below in execution examples\n",
    "        \n",
    "        # find the difference between comfort (current) index and target index\n",
    "        ci = abs(abs(target_ind) - abs(comfortInd))\n",
    "\n",
    "        if ci > comfort_range / 2 + abs(target_ind):\n",
    "            ci = -1\n",
    "        elif (\n",
    "            # old version of the code\n",
    "                # ci_l >= -comfort_range / 2\n",
    "                # and ci_l <= -0.05\n",
    "                # or ci_l <= comfort_range / 2\n",
    "                # and ci_l >= 0.05\n",
    "            \n",
    "            # this is to define the range where the function does good, but not good enough\n",
    "            ci >= abs(target_ind) + 0.05\n",
    "            and ci <= comfort_range / 2 + abs(target_ind)\n",
    "        ):\n",
    "            ci = 0.5\n",
    "        else:\n",
    "            ci = 1\n",
    "        return ci"
   ]
  },
  {
   "cell_type": "code",
   "execution_count": 51,
   "metadata": {},
   "outputs": [
    {
     "data": {
      "text/plain": [
       "1"
      ]
     },
     "execution_count": 51,
     "metadata": {},
     "output_type": "execute_result"
    }
   ],
   "source": [
    "comfort_value_function(-0.1, -0.3, 0.5)"
   ]
  },
  {
   "cell_type": "code",
   "execution_count": 52,
   "metadata": {},
   "outputs": [
    {
     "data": {
      "text/plain": [
       "1"
      ]
     },
     "execution_count": 52,
     "metadata": {},
     "output_type": "execute_result"
    }
   ],
   "source": [
    "comfort_value_function(0.1, 0.3, 0.5)"
   ]
  },
  {
   "cell_type": "code",
   "execution_count": 53,
   "metadata": {},
   "outputs": [
    {
     "data": {
      "text/plain": [
       "1"
      ]
     },
     "execution_count": 53,
     "metadata": {},
     "output_type": "execute_result"
    }
   ],
   "source": [
    "comfort_value_function(0.1, 0.1, 0.3)"
   ]
  },
  {
   "cell_type": "code",
   "execution_count": 54,
   "metadata": {},
   "outputs": [
    {
     "data": {
      "text/plain": [
       "0.5"
      ]
     },
     "execution_count": 54,
     "metadata": {},
     "output_type": "execute_result"
    }
   ],
   "source": [
    "comfort_value_function(0.1, 0.0, 0.2)"
   ]
  },
  {
   "cell_type": "code",
   "execution_count": 55,
   "metadata": {},
   "outputs": [
    {
     "data": {
      "text/plain": [
       "-1"
      ]
     },
     "execution_count": 55,
     "metadata": {},
     "output_type": "execute_result"
    }
   ],
   "source": [
    "comfort_value_function(0.3, 0.0, 0.2)"
   ]
  },
  {
   "cell_type": "code",
   "execution_count": 56,
   "metadata": {},
   "outputs": [
    {
     "data": {
      "text/plain": [
       "-1"
      ]
     },
     "execution_count": 56,
     "metadata": {},
     "output_type": "execute_result"
    }
   ],
   "source": [
    "comfort_value_function(-0.3, 0.0, 0.2)"
   ]
  },
  {
   "cell_type": "code",
   "execution_count": 57,
   "metadata": {},
   "outputs": [
    {
     "data": {
      "text/plain": [
       "0.5"
      ]
     },
     "execution_count": 57,
     "metadata": {},
     "output_type": "execute_result"
    }
   ],
   "source": [
    "comfort_value_function(-0.1, 0.0, 0.2)"
   ]
  },
  {
   "cell_type": "code",
   "execution_count": null,
   "metadata": {},
   "outputs": [],
   "source": []
  }
 ],
 "metadata": {
  "kernelspec": {
   "display_name": "Python 3",
   "language": "python",
   "name": "python3"
  },
  "language_info": {
   "codemirror_mode": {
    "name": "ipython",
    "version": 3
   },
   "file_extension": ".py",
   "mimetype": "text/x-python",
   "name": "python",
   "nbconvert_exporter": "python",
   "pygments_lexer": "ipython3",
   "version": "3.7.2"
  }
 },
 "nbformat": 4,
 "nbformat_minor": 4
}
